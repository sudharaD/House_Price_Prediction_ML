{
 "cells": [
  {
   "cell_type": "markdown",
   "id": "7028bd36",
   "metadata": {},
   "source": [
    "### House Price Prediction ###"
   ]
  },
  {
   "cell_type": "code",
   "execution_count": 1,
   "id": "dcada573",
   "metadata": {},
   "outputs": [],
   "source": [
    "# Generic Libraries\n",
    "import pandas as pd\n",
    "import numpy as np\n",
    "import matplotlib.pyplot as plt"
   ]
  },
  {
   "cell_type": "code",
   "execution_count": 2,
   "id": "1e645e99",
   "metadata": {},
   "outputs": [],
   "source": [
    "# Data set\n",
    "from sklearn.datasets import fetch_california_housing"
   ]
  },
  {
   "cell_type": "code",
   "execution_count": 3,
   "id": "33558ac6",
   "metadata": {},
   "outputs": [],
   "source": [
    "# Load data set\n",
    "data = fetch_california_housing()"
   ]
  },
  {
   "cell_type": "code",
   "execution_count": 4,
   "id": "ed6ac249",
   "metadata": {},
   "outputs": [
    {
     "name": "stdout",
     "output_type": "stream",
     "text": [
      ".. _california_housing_dataset:\n",
      "\n",
      "California Housing dataset\n",
      "--------------------------\n",
      "\n",
      "**Data Set Characteristics:**\n",
      "\n",
      "    :Number of Instances: 20640\n",
      "\n",
      "    :Number of Attributes: 8 numeric, predictive attributes and the target\n",
      "\n",
      "    :Attribute Information:\n",
      "        - MedInc        median income in block group\n",
      "        - HouseAge      median house age in block group\n",
      "        - AveRooms      average number of rooms per household\n",
      "        - AveBedrms     average number of bedrooms per household\n",
      "        - Population    block group population\n",
      "        - AveOccup      average number of household members\n",
      "        - Latitude      block group latitude\n",
      "        - Longitude     block group longitude\n",
      "\n",
      "    :Missing Attribute Values: None\n",
      "\n",
      "This dataset was obtained from the StatLib repository.\n",
      "https://www.dcc.fc.up.pt/~ltorgo/Regression/cal_housing.html\n",
      "\n",
      "The target variable is the median house value for California districts,\n",
      "expressed in hundreds of thousands of dollars ($100,000).\n",
      "\n",
      "This dataset was derived from the 1990 U.S. census, using one row per census\n",
      "block group. A block group is the smallest geographical unit for which the U.S.\n",
      "Census Bureau publishes sample data (a block group typically has a population\n",
      "of 600 to 3,000 people).\n",
      "\n",
      "An household is a group of people residing within a home. Since the average\n",
      "number of rooms and bedrooms in this dataset are provided per household, these\n",
      "columns may take surpinsingly large values for block groups with few households\n",
      "and many empty houses, such as vacation resorts.\n",
      "\n",
      "It can be downloaded/loaded using the\n",
      ":func:`sklearn.datasets.fetch_california_housing` function.\n",
      "\n",
      ".. topic:: References\n",
      "\n",
      "    - Pace, R. Kelley and Ronald Barry, Sparse Spatial Autoregressions,\n",
      "      Statistics and Probability Letters, 33 (1997) 291-297\n",
      "\n"
     ]
    }
   ],
   "source": [
    "print(data.DESCR)"
   ]
  },
  {
   "cell_type": "code",
   "execution_count": 5,
   "id": "38664f1c",
   "metadata": {},
   "outputs": [
    {
     "data": {
      "text/html": [
       "<div>\n",
       "<style scoped>\n",
       "    .dataframe tbody tr th:only-of-type {\n",
       "        vertical-align: middle;\n",
       "    }\n",
       "\n",
       "    .dataframe tbody tr th {\n",
       "        vertical-align: top;\n",
       "    }\n",
       "\n",
       "    .dataframe thead th {\n",
       "        text-align: right;\n",
       "    }\n",
       "</style>\n",
       "<table border=\"1\" class=\"dataframe\">\n",
       "  <thead>\n",
       "    <tr style=\"text-align: right;\">\n",
       "      <th></th>\n",
       "      <th>MedInc</th>\n",
       "      <th>HouseAge</th>\n",
       "      <th>AveRooms</th>\n",
       "      <th>AveBedrms</th>\n",
       "      <th>Population</th>\n",
       "      <th>AveOccup</th>\n",
       "      <th>Latitude</th>\n",
       "      <th>Longitude</th>\n",
       "    </tr>\n",
       "  </thead>\n",
       "  <tbody>\n",
       "    <tr>\n",
       "      <th>0</th>\n",
       "      <td>8.3252</td>\n",
       "      <td>41.0</td>\n",
       "      <td>6.984127</td>\n",
       "      <td>1.023810</td>\n",
       "      <td>322.0</td>\n",
       "      <td>2.555556</td>\n",
       "      <td>37.88</td>\n",
       "      <td>-122.23</td>\n",
       "    </tr>\n",
       "    <tr>\n",
       "      <th>1</th>\n",
       "      <td>8.3014</td>\n",
       "      <td>21.0</td>\n",
       "      <td>6.238137</td>\n",
       "      <td>0.971880</td>\n",
       "      <td>2401.0</td>\n",
       "      <td>2.109842</td>\n",
       "      <td>37.86</td>\n",
       "      <td>-122.22</td>\n",
       "    </tr>\n",
       "    <tr>\n",
       "      <th>2</th>\n",
       "      <td>7.2574</td>\n",
       "      <td>52.0</td>\n",
       "      <td>8.288136</td>\n",
       "      <td>1.073446</td>\n",
       "      <td>496.0</td>\n",
       "      <td>2.802260</td>\n",
       "      <td>37.85</td>\n",
       "      <td>-122.24</td>\n",
       "    </tr>\n",
       "    <tr>\n",
       "      <th>3</th>\n",
       "      <td>5.6431</td>\n",
       "      <td>52.0</td>\n",
       "      <td>5.817352</td>\n",
       "      <td>1.073059</td>\n",
       "      <td>558.0</td>\n",
       "      <td>2.547945</td>\n",
       "      <td>37.85</td>\n",
       "      <td>-122.25</td>\n",
       "    </tr>\n",
       "    <tr>\n",
       "      <th>4</th>\n",
       "      <td>3.8462</td>\n",
       "      <td>52.0</td>\n",
       "      <td>6.281853</td>\n",
       "      <td>1.081081</td>\n",
       "      <td>565.0</td>\n",
       "      <td>2.181467</td>\n",
       "      <td>37.85</td>\n",
       "      <td>-122.25</td>\n",
       "    </tr>\n",
       "  </tbody>\n",
       "</table>\n",
       "</div>"
      ],
      "text/plain": [
       "   MedInc  HouseAge  AveRooms  AveBedrms  Population  AveOccup  Latitude  \\\n",
       "0  8.3252      41.0  6.984127   1.023810       322.0  2.555556     37.88   \n",
       "1  8.3014      21.0  6.238137   0.971880      2401.0  2.109842     37.86   \n",
       "2  7.2574      52.0  8.288136   1.073446       496.0  2.802260     37.85   \n",
       "3  5.6431      52.0  5.817352   1.073059       558.0  2.547945     37.85   \n",
       "4  3.8462      52.0  6.281853   1.081081       565.0  2.181467     37.85   \n",
       "\n",
       "   Longitude  \n",
       "0    -122.23  \n",
       "1    -122.22  \n",
       "2    -122.24  \n",
       "3    -122.25  \n",
       "4    -122.25  "
      ]
     },
     "execution_count": 5,
     "metadata": {},
     "output_type": "execute_result"
    }
   ],
   "source": [
    "# Load data to a dataframe (Independent Data)\n",
    "df = pd.DataFrame(data = data.data[:1000], columns = data.feature_names) ## get first 2500 data rows\n",
    "df.head()"
   ]
  },
  {
   "cell_type": "code",
   "execution_count": 6,
   "id": "a833600c",
   "metadata": {},
   "outputs": [
    {
     "data": {
      "text/plain": [
       "array([4.526, 3.585, 3.521, ..., 0.923, 0.847, 0.894])"
      ]
     },
     "execution_count": 6,
     "metadata": {},
     "output_type": "execute_result"
    }
   ],
   "source": [
    "data.target"
   ]
  },
  {
   "cell_type": "code",
   "execution_count": 7,
   "id": "7cfe5a56",
   "metadata": {},
   "outputs": [],
   "source": [
    "# Adding target column to the dataframe (Dependent Data)\n",
    "df['Target'] = data.target[:1000]"
   ]
  },
  {
   "cell_type": "code",
   "execution_count": 8,
   "id": "dd102e94",
   "metadata": {},
   "outputs": [
    {
     "data": {
      "text/html": [
       "<div>\n",
       "<style scoped>\n",
       "    .dataframe tbody tr th:only-of-type {\n",
       "        vertical-align: middle;\n",
       "    }\n",
       "\n",
       "    .dataframe tbody tr th {\n",
       "        vertical-align: top;\n",
       "    }\n",
       "\n",
       "    .dataframe thead th {\n",
       "        text-align: right;\n",
       "    }\n",
       "</style>\n",
       "<table border=\"1\" class=\"dataframe\">\n",
       "  <thead>\n",
       "    <tr style=\"text-align: right;\">\n",
       "      <th></th>\n",
       "      <th>MedInc</th>\n",
       "      <th>HouseAge</th>\n",
       "      <th>AveRooms</th>\n",
       "      <th>AveBedrms</th>\n",
       "      <th>Population</th>\n",
       "      <th>AveOccup</th>\n",
       "      <th>Latitude</th>\n",
       "      <th>Longitude</th>\n",
       "      <th>Target</th>\n",
       "    </tr>\n",
       "  </thead>\n",
       "  <tbody>\n",
       "    <tr>\n",
       "      <th>0</th>\n",
       "      <td>8.3252</td>\n",
       "      <td>41.0</td>\n",
       "      <td>6.984127</td>\n",
       "      <td>1.023810</td>\n",
       "      <td>322.0</td>\n",
       "      <td>2.555556</td>\n",
       "      <td>37.88</td>\n",
       "      <td>-122.23</td>\n",
       "      <td>4.526</td>\n",
       "    </tr>\n",
       "    <tr>\n",
       "      <th>1</th>\n",
       "      <td>8.3014</td>\n",
       "      <td>21.0</td>\n",
       "      <td>6.238137</td>\n",
       "      <td>0.971880</td>\n",
       "      <td>2401.0</td>\n",
       "      <td>2.109842</td>\n",
       "      <td>37.86</td>\n",
       "      <td>-122.22</td>\n",
       "      <td>3.585</td>\n",
       "    </tr>\n",
       "    <tr>\n",
       "      <th>2</th>\n",
       "      <td>7.2574</td>\n",
       "      <td>52.0</td>\n",
       "      <td>8.288136</td>\n",
       "      <td>1.073446</td>\n",
       "      <td>496.0</td>\n",
       "      <td>2.802260</td>\n",
       "      <td>37.85</td>\n",
       "      <td>-122.24</td>\n",
       "      <td>3.521</td>\n",
       "    </tr>\n",
       "    <tr>\n",
       "      <th>3</th>\n",
       "      <td>5.6431</td>\n",
       "      <td>52.0</td>\n",
       "      <td>5.817352</td>\n",
       "      <td>1.073059</td>\n",
       "      <td>558.0</td>\n",
       "      <td>2.547945</td>\n",
       "      <td>37.85</td>\n",
       "      <td>-122.25</td>\n",
       "      <td>3.413</td>\n",
       "    </tr>\n",
       "    <tr>\n",
       "      <th>4</th>\n",
       "      <td>3.8462</td>\n",
       "      <td>52.0</td>\n",
       "      <td>6.281853</td>\n",
       "      <td>1.081081</td>\n",
       "      <td>565.0</td>\n",
       "      <td>2.181467</td>\n",
       "      <td>37.85</td>\n",
       "      <td>-122.25</td>\n",
       "      <td>3.422</td>\n",
       "    </tr>\n",
       "  </tbody>\n",
       "</table>\n",
       "</div>"
      ],
      "text/plain": [
       "   MedInc  HouseAge  AveRooms  AveBedrms  Population  AveOccup  Latitude  \\\n",
       "0  8.3252      41.0  6.984127   1.023810       322.0  2.555556     37.88   \n",
       "1  8.3014      21.0  6.238137   0.971880      2401.0  2.109842     37.86   \n",
       "2  7.2574      52.0  8.288136   1.073446       496.0  2.802260     37.85   \n",
       "3  5.6431      52.0  5.817352   1.073059       558.0  2.547945     37.85   \n",
       "4  3.8462      52.0  6.281853   1.081081       565.0  2.181467     37.85   \n",
       "\n",
       "   Longitude  Target  \n",
       "0    -122.23   4.526  \n",
       "1    -122.22   3.585  \n",
       "2    -122.24   3.521  \n",
       "3    -122.25   3.413  \n",
       "4    -122.25   3.422  "
      ]
     },
     "execution_count": 8,
     "metadata": {},
     "output_type": "execute_result"
    }
   ],
   "source": [
    "df.head()"
   ]
  },
  {
   "cell_type": "markdown",
   "id": "387a3905",
   "metadata": {},
   "source": [
    "#### Exploratory Data Analysis ####"
   ]
  },
  {
   "cell_type": "markdown",
   "id": "59acacc5",
   "metadata": {},
   "source": [
    "**Exploratory Data Analysis (EDA) is an approach that is used to analyze the data and discover trends, patterns, or check assumptions in data with the help of statistical summaries and graphical representations². EDA refers to the critical process of performing initial investigations on data so as to discover patterns, to spot anomalies, to test hypothesis and to check assumptions with the help of summary statistics and graphical representations. **"
   ]
  },
  {
   "cell_type": "code",
   "execution_count": 9,
   "id": "69826fde",
   "metadata": {},
   "outputs": [],
   "source": [
    "import sweetviz as sv"
   ]
  },
  {
   "cell_type": "code",
   "execution_count": 10,
   "id": "4a4c5fd9",
   "metadata": {},
   "outputs": [
    {
     "data": {
      "application/vnd.jupyter.widget-view+json": {
       "model_id": "c2a6c69d85bd41fa93ce57e69c55b542",
       "version_major": 2,
       "version_minor": 0
      },
      "text/plain": [
       "                                             |                                             | [  0%]   00:00 ->…"
      ]
     },
     "metadata": {},
     "output_type": "display_data"
    },
    {
     "name": "stdout",
     "output_type": "stream",
     "text": [
      "Report ./report.html was generated! NOTEBOOK/COLAB USERS: the web browser MAY not pop up, regardless, the report IS saved in your notebook/colab files.\n"
     ]
    }
   ],
   "source": [
    "report = sv.analyze(df)\n",
    "report.show_html(\"./report.html\")"
   ]
  },
  {
   "cell_type": "markdown",
   "id": "9aeb1a1c",
   "metadata": {},
   "source": [
    "#### Data Pre-Processing ####"
   ]
  },
  {
   "cell_type": "code",
   "execution_count": 11,
   "id": "7e91519f",
   "metadata": {},
   "outputs": [
    {
     "data": {
      "text/plain": [
       "['MedInc',\n",
       " 'HouseAge',\n",
       " 'AveRooms',\n",
       " 'AveBedrms',\n",
       " 'Population',\n",
       " 'AveOccup',\n",
       " 'Latitude',\n",
       " 'Longitude']"
      ]
     },
     "execution_count": 11,
     "metadata": {},
     "output_type": "execute_result"
    }
   ],
   "source": [
    "data.feature_names"
   ]
  },
  {
   "cell_type": "code",
   "execution_count": 12,
   "id": "6114d70a",
   "metadata": {},
   "outputs": [],
   "source": [
    "# Fearture Engineering\n",
    "from geopy.geocoders import Nominatim"
   ]
  },
  {
   "cell_type": "code",
   "execution_count": 13,
   "id": "5d355fce",
   "metadata": {},
   "outputs": [],
   "source": [
    "geolocator = Nominatim(user_agent='geoapiExercises')"
   ]
  },
  {
   "cell_type": "code",
   "execution_count": 14,
   "id": "fbf5e036",
   "metadata": {},
   "outputs": [],
   "source": [
    "# test - my code\n",
    "# location_list = []\n",
    "# for i in range(df.shape[0]-20600):\n",
    "#     location_list.append(geolocator.reverse(str(df['Latitude'][i])+','+str(df['Longitude'][i]))[0])\n",
    "# print(location_list)"
   ]
  },
  {
   "cell_type": "code",
   "execution_count": 15,
   "id": "d6bf8cf5",
   "metadata": {},
   "outputs": [],
   "source": [
    "def location(cord):\n",
    "    Lat = str(cord[0])\n",
    "    Lon = str(cord[1])\n",
    "    \n",
    "    location = geolocator.reverse(Lat+','+Lon).raw['address'] # returns a dictionary\n",
    "#     print(location)\n",
    "    \n",
    "    # if a values are missing replace them by a empty string\n",
    "    \n",
    "    if location.get('road') is None:\n",
    "        location['road'] = None\n",
    "        \n",
    "    if location.get('county') is None:\n",
    "        location['county'] = None\n",
    "        \n",
    "    updated_location['County'].append(location['county'])\n",
    "    updated_location['Road'].append(location['road'])"
   ]
  },
  {
   "cell_type": "code",
   "execution_count": 16,
   "id": "a11361d7",
   "metadata": {},
   "outputs": [
    {
     "name": "stdout",
     "output_type": "stream",
     "text": [
      "0\n",
      "20\n",
      "40\n",
      "60\n",
      "80\n",
      "100\n",
      "120\n",
      "140\n",
      "160\n",
      "180\n",
      "200\n",
      "220\n",
      "240\n",
      "260\n",
      "280\n",
      "300\n",
      "320\n",
      "340\n",
      "360\n",
      "380\n",
      "400\n",
      "420\n",
      "440\n",
      "460\n",
      "480\n",
      "500\n",
      "520\n",
      "540\n",
      "560\n",
      "580\n",
      "600\n",
      "620\n",
      "640\n",
      "660\n",
      "680\n",
      "700\n",
      "720\n",
      "740\n",
      "760\n",
      "780\n",
      "800\n",
      "820\n",
      "840\n",
      "860\n",
      "880\n",
      "900\n",
      "920\n",
      "940\n",
      "960\n",
      "980\n"
     ]
    }
   ],
   "source": [
    "# Create the pickle file\n",
    "\n",
    "# import pickle\n",
    "# updated_location = {\"County\":[],\"Road\":[]}\n",
    "\n",
    "# for i,cord in enumerate(df.iloc[:,6:-1].values):\n",
    "#     location(cord)\n",
    "    \n",
    "#     #continuously reading and saving\n",
    "#     pickle.dump(updated_location, open('updated_location.pickle','wb'))\n",
    "    \n",
    "#     if i%100 == 0:\n",
    "#         print(i)"
   ]
  },
  {
   "cell_type": "code",
   "execution_count": 16,
   "id": "81fb8a84",
   "metadata": {},
   "outputs": [],
   "source": [
    "# load the pickale module\n",
    "import pickle\n",
    "\n",
    "updated_location = pickle.load(open(\"updated_location.pickle\", \"rb\"))"
   ]
  },
  {
   "cell_type": "code",
   "execution_count": 17,
   "id": "c431897d",
   "metadata": {},
   "outputs": [
    {
     "name": "stdout",
     "output_type": "stream",
     "text": [
      "{'County': ['Alameda County', 'Alameda County', 'Alameda County', 'Alameda County', 'Alameda County', 'Alameda County', 'Alameda County', 'Alameda County', 'Alameda County', 'Alameda County', 'Alameda County', 'Alameda County', 'Alameda County', 'Alameda County', 'Alameda County', 'Alameda County', 'Alameda County', 'Alameda County', 'Alameda County', 'Alameda County', 'Alameda County', 'Alameda County', 'Alameda County', 'Alameda County', 'Alameda County', 'Alameda County', 'Alameda County', 'Alameda County', 'Alameda County', 'Alameda County', 'Alameda County', 'Alameda County', 'Alameda County', 'Alameda County', 'Alameda County', 'Alameda County', 'Alameda County', 'Alameda County', 'Alameda County', 'Alameda County', 'Alameda County', 'Alameda County', 'Alameda County', 'Alameda County', 'Alameda County', 'Alameda County', 'Alameda County', 'Alameda County', 'Alameda County', 'Alameda County', 'Alameda County', 'Alameda County', 'Alameda County', 'Alameda County', 'Alameda County', 'Alameda County', 'Alameda County', 'Alameda County', 'Alameda County', 'Alameda County', 'Alameda County', 'Alameda County', 'Alameda County', 'Alameda County', 'Alameda County', 'Alameda County', 'Alameda County', 'Alameda County', 'Alameda County', 'Alameda County', 'Alameda County', 'Alameda County', 'Alameda County', 'Alameda County', 'Alameda County', 'Alameda County', 'Alameda County', 'Alameda County', 'Alameda County', 'Alameda County', 'Alameda County', 'Alameda County', 'Alameda County', 'Alameda County', 'Alameda County', 'Alameda County', 'Alameda County', 'Alameda County', 'Alameda County', 'Alameda County', 'Alameda County', 'Alameda County', 'Alameda County', 'Alameda County', 'Alameda County', 'Alameda County', 'Alameda County', 'Alameda County', 'Alameda County', 'Alameda County', 'Alameda County', 'Alameda County', 'Alameda County', 'Alameda County', 'Alameda County', 'Alameda County', 'Alameda County', 'Alameda County', 'Alameda County', 'Alameda County', 'Alameda County', 'Alameda County', 'Alameda County', 'Alameda County', 'Alameda County', 'Alameda County', 'Alameda County', 'Alameda County', 'Alameda County', 'Alameda County', 'Alameda County', 'Alameda County', 'Alameda County', 'Alameda County', 'Alameda County', 'Alameda County', 'Alameda County', 'Alameda County', 'Alameda County', 'Alameda County', 'Alameda County', 'Contra Costa County', 'Alameda County', 'Alameda County', 'Alameda County', 'Alameda County', 'Alameda County', 'Alameda County', 'Alameda County', 'Alameda County', 'Alameda County', 'Alameda County', 'Alameda County', 'Alameda County', 'Alameda County', 'Alameda County', 'Alameda County', 'Alameda County', 'Alameda County', 'Alameda County', 'Alameda County', 'Alameda County', 'Alameda County', 'Alameda County', 'Alameda County', 'Alameda County', 'Alameda County', 'Alameda County', 'Alameda County', 'Alameda County', 'Alameda County', 'Alameda County', 'Alameda County', 'Alameda County', 'Alameda County', 'Alameda County', 'Alameda County', 'Alameda County', 'Alameda County', 'Alameda County', 'Alameda County', 'Alameda County', 'Alameda County', 'Alameda County', 'Alameda County', 'Alameda County', 'Alameda County', 'Alameda County', 'Alameda County', 'Alameda County', 'Alameda County', 'Alameda County', 'Alameda County', 'Alameda County', 'Alameda County', 'Alameda County', 'Alameda County', 'Alameda County', 'Alameda County', 'Alameda County', 'Alameda County', 'Alameda County', 'Alameda County', 'Alameda County', 'Alameda County', 'Alameda County', 'Alameda County', 'Alameda County', 'Alameda County', 'Alameda County', 'Alameda County', 'Alameda County', 'Alameda County', 'Alameda County', 'Alameda County', 'Alameda County', 'Alameda County', 'Alameda County', 'Alameda County', 'Alameda County', 'Alameda County', 'Alameda County', 'Alameda County', 'Alameda County', 'Alameda County', 'Alameda County', 'Alameda County', 'Alameda County', 'Alameda County', 'Alameda County', 'Alameda County', 'Alameda County', 'Alameda County', 'Alameda County', 'Alameda County', 'Alameda County', 'Alameda County', 'Alameda County', 'Alameda County', 'Alameda County', 'Alameda County', 'Alameda County', 'Alameda County', 'Alameda County', 'Alameda County', 'Alameda County', 'Alameda County', 'Alameda County', 'Alameda County', 'Alameda County', 'Alameda County', 'Alameda County', 'Alameda County', 'Alameda County', 'Alameda County', 'Alameda County', 'Alameda County', 'Alameda County', 'Alameda County', 'Alameda County', 'Alameda County', 'Alameda County', 'Alameda County', 'Alameda County', 'Alameda County', 'Alameda County', 'Alameda County', 'Alameda County', 'Alameda County', 'Alameda County', 'Alameda County', 'Alameda County', 'Alameda County', 'Alameda County', 'Alameda County', 'Alameda County', 'Alameda County', 'Alameda County', 'Alameda County', 'Alameda County', 'Alameda County', 'Alameda County', 'Alameda County', 'Alameda County', 'Alameda County', 'Alameda County', 'Alameda County', 'Alameda County', 'Alameda County', 'Alameda County', 'Alameda County', 'Alameda County', 'Alameda County', 'Alameda County', 'Alameda County', 'Alameda County', 'Alameda County', 'Alameda County', 'Alameda County', 'Alameda County', 'Alameda County', 'Alameda County', 'Alameda County', 'Alameda County', 'Alameda County', 'Alameda County', 'Alameda County', 'Alameda County', 'Alameda County', 'Alameda County', 'Alameda County', 'Alameda County', 'Alameda County', 'Alameda County', 'Alameda County', 'Alameda County', 'Alameda County', 'Alameda County', 'Alameda County', 'Alameda County', 'Alameda County', 'Alameda County', 'Alameda County', 'Alameda County', 'Alameda County', 'Alameda County', 'Alameda County', 'Alameda County', 'Alameda County', 'Alameda County', 'Alameda County', 'Alameda County', 'Alameda County', 'Alameda County', 'Alameda County', 'Alameda County', 'Alameda County', 'Alameda County', 'Alameda County', 'Alameda County', 'Alameda County', 'Alameda County', 'Alameda County', 'Alameda County', 'Alameda County', 'Alameda County', 'Alameda County', 'Alameda County', 'Alameda County', 'Alameda County', 'Alameda County', 'Alameda County', 'Alameda County', 'Alameda County', 'Alameda County', 'Alameda County', 'Alameda County', 'Alameda County', 'Alameda County', 'Alameda County', 'Alameda County', 'Alameda County', 'Alameda County', 'Alameda County', 'Alameda County', 'Alameda County', 'Alameda County', 'Alameda County', 'Alameda County', 'Alameda County', 'Alameda County', 'Alameda County', 'Alameda County', 'Alameda County', 'Alameda County', 'Alameda County', 'Alameda County', 'Alameda County', 'Alameda County', 'Alameda County', 'Alameda County', 'Alameda County', 'Alameda County', 'Alameda County', 'Alameda County', 'Alameda County', 'Alameda County', 'Alameda County', 'Alameda County', 'Alameda County', 'Alameda County', 'Alameda County', 'Alameda County', 'Alameda County', 'Alameda County', 'Contra Costa County', 'Contra Costa County', 'Alameda County', 'Contra Costa County', 'Alameda County', 'Alameda County', 'Contra Costa County', 'Alameda County', 'Alameda County', 'Alameda County', 'Alameda County', 'Alameda County', 'Alameda County', 'Alameda County', 'Alameda County', 'Alameda County', 'Alameda County', 'Alameda County', 'Alameda County', 'Alameda County', 'Alameda County', 'Alameda County', 'Alameda County', 'Alameda County', 'Alameda County', 'Alameda County', 'Alameda County', 'Alameda County', 'Alameda County', 'Alameda County', 'Alameda County', 'Alameda County', 'Alameda County', 'Alameda County', 'Alameda County', 'Alameda County', 'Alameda County', 'Alameda County', 'Alameda County', 'Alameda County', 'Alameda County', 'Alameda County', 'Alameda County', 'Alameda County', 'Alameda County', 'Alameda County', 'Alameda County', 'Alameda County', 'Alameda County', 'Alameda County', 'Alameda County', 'Alameda County', 'Alameda County', 'Alameda County', 'Alameda County', 'Alameda County', 'Alameda County', 'Alameda County', 'Alameda County', 'Alameda County', 'Alameda County', 'Alameda County', 'Alameda County', 'Alameda County', 'Alameda County', 'Alameda County', 'Alameda County', 'Alameda County', 'Alameda County', 'Alameda County', 'Alameda County', 'Alameda County', 'Alameda County', 'Alameda County', 'Alameda County', 'Alameda County', 'Alameda County', 'Alameda County', 'Alameda County', 'Alameda County', 'Alameda County', 'Alameda County', 'Alameda County', 'Alameda County', 'Alameda County', 'Alameda County', 'Alameda County', 'Alameda County', 'Alameda County', 'Alameda County', 'Alameda County', 'Alameda County', 'Alameda County', 'Alameda County', 'Alameda County', 'Alameda County', 'Alameda County', 'Alameda County', 'Alameda County', 'Alameda County', 'Alameda County', 'Alameda County', 'Alameda County', 'Alameda County', 'Alameda County', 'Alameda County', 'Alameda County', 'Alameda County', 'Alameda County', 'Alameda County', 'Alameda County', 'Alameda County', 'Alameda County', 'Alameda County', 'Alameda County', 'Alameda County', 'Alameda County', 'Alameda County', 'Alameda County', 'Alameda County', 'Alameda County', 'Alameda County', 'Alameda County', 'Alameda County', 'Alameda County', 'Alameda County', 'Alameda County', 'Alameda County', 'Alameda County', 'Alameda County', 'Alameda County', 'Alameda County', 'Alameda County', 'Alameda County', 'Alameda County', 'Alameda County', 'Alameda County', 'Alameda County', 'Alameda County', 'Alameda County', 'Alameda County', 'Alameda County', 'Alameda County', 'Alameda County', 'Alameda County', 'Alameda County', 'Alameda County', 'Alameda County', 'Alameda County', 'Alameda County', 'Alameda County', 'Alameda County', 'Alameda County', 'Alameda County', 'Alameda County', 'Alameda County', 'Alameda County', 'Alameda County', 'Alameda County', 'Alameda County', 'Alameda County', 'Alameda County', 'Alameda County', 'Alameda County', 'Alameda County', 'Alameda County', 'Alameda County', 'Alameda County', 'Alameda County', 'Alameda County', 'Alameda County', 'Alameda County', 'Alameda County', 'Alameda County', 'Alameda County', 'Alameda County', 'Alameda County', 'Alameda County', 'Alameda County', 'Alameda County', 'Alameda County', 'Alameda County', 'Alameda County', 'Alameda County', 'Alameda County', 'Alameda County', 'Alameda County', 'Alameda County', 'Alameda County', 'Alameda County', 'Alameda County', 'Alameda County', 'Alameda County', 'Alameda County', 'Alameda County', 'Alameda County', 'Alameda County', 'Alameda County', 'Alameda County', 'Alameda County', 'Alameda County', 'Alameda County', 'Alameda County', 'Alameda County', 'Alameda County', 'Alameda County', 'Alameda County', 'Alameda County', 'Alameda County', 'Alameda County', 'Alameda County', 'Alameda County', 'Alameda County', 'Alameda County', 'Alameda County', 'Alameda County', 'Alameda County', 'Alameda County', 'Alameda County', 'Alameda County', 'Alameda County', 'Alameda County', 'Alameda County', 'Alameda County', 'Alameda County', 'Alameda County', 'Alameda County', 'Alameda County', 'Alameda County', 'Alameda County', 'Alameda County', 'Alameda County', 'Alameda County', 'Alameda County', 'Alameda County', 'Alameda County', 'Alameda County', 'Alameda County', 'Alameda County', 'Alameda County', 'Alameda County', 'Alameda County', 'Alameda County', 'Alameda County', 'Alameda County', 'Alameda County', 'Alameda County', 'Alameda County', 'Alameda County', 'Alameda County', 'Alameda County', 'Alameda County', 'Alameda County', 'Alameda County', 'Alameda County', 'Alameda County', 'Alameda County', 'Alameda County', 'Alameda County', 'Alameda County', 'Alameda County', 'Alameda County', 'Alameda County', 'Alameda County', 'Alameda County', 'Alameda County', 'Alameda County', 'Alameda County', 'Alameda County', 'Alameda County', 'Alameda County', 'Alameda County', 'Alameda County', 'Alameda County', 'Alameda County', 'Alameda County', 'Alameda County', 'Alameda County', 'Alameda County', 'Alameda County', 'Alameda County', 'Alameda County', 'Alameda County', 'Alameda County', 'Alameda County', 'Alameda County', 'Alameda County', 'Alameda County', 'Alameda County', 'Alameda County', 'Alameda County', 'Alameda County', 'Alameda County', 'Alameda County', 'Alameda County', 'Alameda County', 'Alameda County', 'Alameda County', 'Alameda County', 'Alameda County', 'Alameda County', 'Alameda County', 'Alameda County', 'Alameda County', 'Alameda County', 'Alameda County', 'Alameda County', 'Alameda County', 'Alameda County', 'Alameda County', 'Alameda County', 'Alameda County', 'Alameda County', 'Alameda County', 'Alameda County', 'Alameda County', 'Alameda County', 'Alameda County', 'Alameda County', 'Alameda County', 'Alameda County', 'Alameda County', 'Alameda County', 'Alameda County', 'Alameda County', 'Alameda County', 'Alameda County', 'Alameda County', 'Alameda County', 'Alameda County', 'Alameda County', 'Alameda County', 'Alameda County', 'Alameda County', 'Alameda County', 'Alameda County', 'Alameda County', 'Alameda County', 'Alameda County', 'Alameda County', 'Alameda County', 'Alameda County', 'Alameda County', 'Alameda County', 'Alameda County', 'Alameda County', 'Alameda County', 'Alameda County', 'Alameda County', 'Alameda County', 'Alameda County', 'Alameda County', 'Alameda County', 'Alameda County', 'Alameda County', 'Alameda County', 'Alameda County', 'Alameda County', 'Alameda County', 'Alameda County', 'Alameda County', 'Alameda County', 'Alameda County', 'Alameda County', 'Alameda County', 'Alameda County', 'Alameda County', 'Alameda County', 'Alameda County', 'Alameda County', 'Alameda County', 'Alameda County', 'Alameda County', 'Alameda County', 'Alameda County', 'Alameda County', 'Alameda County', 'Alameda County', 'Alameda County', 'Alameda County', 'Alameda County', 'Alameda County', 'Alameda County', 'Alameda County', 'Alameda County', 'Alameda County', 'Alameda County', 'Alameda County', 'Alameda County', 'Alameda County', 'Alameda County', 'Alameda County', 'Alameda County', 'Alameda County', 'Alameda County', 'Alameda County', 'Alameda County', 'Alameda County', 'Alameda County', 'Alameda County', 'Alameda County', 'Alameda County', 'Alameda County', 'Alameda County', 'Alameda County', 'Alameda County', 'Alameda County', 'Alameda County', 'Alameda County', 'Alameda County', 'Alameda County', 'Alameda County', 'Alameda County', 'Alameda County', 'Alameda County', 'Alameda County', 'Alameda County', 'Alameda County', 'Alameda County', 'Alameda County', 'Alameda County', 'Alameda County', 'Alameda County', 'Alameda County', 'Alameda County', 'Alameda County', 'Alameda County', 'Alameda County', 'Alameda County', 'Alameda County', 'Alameda County', 'Alameda County', 'Alameda County', 'Alameda County', 'Alameda County', 'Alameda County', 'Alameda County', 'Alameda County', 'Alameda County', 'Alameda County', 'Alameda County', 'Alameda County', 'Alameda County', 'Alameda County', 'Alameda County', 'Alameda County', 'Alameda County', 'Alameda County', 'Alameda County', 'Alameda County', 'Alameda County', 'Alameda County', 'Alameda County', 'Alameda County', 'Alameda County', 'Alameda County', 'Alameda County', 'Alameda County', 'Alameda County', 'Alameda County', 'Alameda County', 'Alameda County', 'Alameda County', 'Alameda County', 'Alameda County', 'Alameda County', 'Alameda County', 'Alameda County', 'Alameda County', 'Alameda County', 'Alameda County', 'Alameda County', 'Alameda County', 'Alameda County', 'Alameda County', 'Alameda County', 'Alameda County', 'Alameda County', 'Alameda County', 'Alameda County', 'Alameda County', 'Alameda County', 'Alameda County', 'Alameda County', 'Alameda County', 'Alameda County', 'Alameda County', 'Alameda County', 'Alameda County', 'Alameda County', 'Alameda County', 'Alameda County', 'Alameda County', 'Alameda County', 'Alameda County', 'Alameda County', 'Alameda County', 'Alameda County', 'Alameda County', 'Alameda County', 'Alameda County', 'Alameda County', 'Alameda County', 'Alameda County', 'Alameda County', 'Alameda County', 'Alameda County', 'Alameda County', 'Alameda County', 'Alameda County', 'Alameda County', 'Alameda County', 'Alameda County', 'Alameda County', 'Alameda County', 'Alameda County', 'Alameda County', 'Alameda County', 'Alameda County', 'Alameda County', 'Alameda County', 'Alameda County', 'Alameda County', 'Alameda County', 'Alameda County', 'Alameda County', 'Alameda County', 'Alameda County', 'Alameda County', 'Alameda County', 'Alameda County', 'Alameda County', 'Alameda County', 'Alameda County', 'Alameda County', 'Alameda County', 'Alameda County', 'Alameda County', 'Alameda County', 'Alameda County', 'Alameda County', 'Alameda County', 'Alameda County', 'Alameda County', 'Alameda County', 'Alameda County', 'Alameda County', 'Alameda County', 'Alameda County', 'Alameda County', 'Alameda County', 'Alameda County', 'Alameda County', 'Alameda County', 'Alameda County', 'Alameda County', 'Alameda County', 'Alameda County', 'Alameda County', 'Alameda County', 'Alameda County', 'Alameda County', 'Alameda County', 'Alameda County', 'Alameda County', 'Alameda County', 'Alameda County', 'Alameda County', 'Alameda County', 'Alameda County', 'Alameda County', 'Alameda County', 'Alameda County', 'Alameda County', 'Alameda County', 'Alameda County', 'Alameda County', 'Alameda County', 'Alameda County', 'Alameda County', 'Alameda County', 'Alameda County', 'Alameda County', 'Alameda County', 'Alameda County', 'Alameda County', 'Alameda County', 'Alameda County', 'Alameda County', 'Alameda County', 'Alameda County', 'Alameda County', 'Alameda County', 'Alameda County', 'Alameda County', 'Alameda County', 'Alameda County', 'Alameda County', 'Alameda County', 'Alameda County', 'Alameda County', 'Alameda County', 'Alameda County', 'Alameda County', 'Alameda County', 'Alameda County', 'Alameda County', 'Alameda County', 'Alameda County', 'Alameda County', 'Alameda County', 'Alameda County', 'Alameda County', 'Alameda County', 'Alameda County'], 'Road': ['Smyth Road', 'Bay Forest Place', 'Grove Shafter Freeway', 'Florio Street', 'Florio Street', 'Florio Street', 'Bryant Avenue', 'Bryant Avenue', 'Claremont Avenue', 'Bryant Avenue', 'Telegraph Avenue', 'Telegraph Avenue', 'Telegraph Avenue', 'Claremont Avenue', 'Telegraph Avenue', 'Telegraph Avenue', 'Harmon Street', 'Harmon Street', 'Claremont Avenue', 'Martin Luther King Junior Way', 'Harmon Street', 'Harmon Street', 'Martin Luther King Junior Way', 'Martin Luther King Junior Way', 'Martin Luther King Junior Way', '66th Street', '66th Street', '66th Street', 'Aileen Street', 'Aileen Street', 'Aileen Street', 'Aileen Street', 'Martin Luther King Junior Way', '40th Street', '40th Street', '40th Street', '40th Street', 'San Pablo Avenue', 'Webster Street', 'Webster Street', 'Webster Street', 'Webster Street', 'Claremont Avenue', 'Claremont Avenue', 'Webster Street', 'Webster Street', 'Webster Street', 'Grove Shafter Freeway', 'Randwick Avenue', 'Grove Shafter Freeway', 'Grove Shafter Freeway', 'Grove Shafter Freeway', 'Grove Shafter Freeway', 'Grove Shafter Freeway', 'Linden Street', 'Linden Street', 'Linden Street', 'Linden Street', 'Linden Street', '24th Street', 'Halleck Street', '24th Street', 'Kirkham Street', '10th Street', '10th Street', '10th Street', '10th Street', 'Middle Harbor Road', '10th Street', 'Kirkham Street', 'Kirkham Street', 'Kirkham Street', 'Kirkham Street', 'Kirkham Street', 'Kirkham Street', 'Market Street', 'Market Street', 'Market Street', 'Kirkham Street', 'Martin Luther King Junior Way', 'Market Street', 'Thomas L. Berkley Way', 'Market Street', 'Market Street', 'Market Street', 'Market Street', 'Thomas L. Berkley Way', 'Thomas L. Berkley Way', '10th Street', '10th Street', '10th Street', 'Martin Luther King Junior Way', 'Martin Luther King Junior Way', 'Embarcadero West', '10th Street', 'Channel Path', 'Randwick Avenue', 'Grand Avenue', 'Randwick Avenue', 'Randwick Avenue', 'Lagunitas Avenue', 'Lagunitas Avenue', 'Lagunitas Avenue', 'Lagunitas Avenue', 'Grand Avenue', 'Magnolia Avenue', 'Longridge Road', 'Lagunitas Avenue', 'Magnolia Avenue', 'Mariposa Avenue', 'Mariposa Avenue', 'Mariposa Avenue', 'Mariposa Avenue', 'John Street', 'John Street', 'John Street', 'John Street', 'John Street', 'Florence Avenue', 'Florence Avenue', 'Ronada Avenue', 'Grove Shafter Freeway', 'Warren Freeway', 'Mendocino Avenue', 'Grove Shafter Freeway', 'Caldecott Flow', 'Broadway Terrace', 'Thornhill Drive', 'Magellan Drive', 'Oakwood Drive', 'Thornhill Drive', 'Upper Huckleberry Loop Trail', 'Oakwood Drive', 'Magellan Drive', 'Elderberry Drive', 'Shepherd Canyon Trail', 'Elderberry Drive', 'Holyrood Drive', 'Ascot Drive', 'Ascot Drive', 'Sunset Loop', 'Somerset Road', 'Lincoln Avenue', 'Laguna Avenue', 'Laguna Avenue', 'Lyman Road', 'Glendora Avenue', 'MacArthur Boulevard', 'MacArthur Boulevard', 'MacArthur Boulevard', 'Glendora Avenue', 'Glendora Avenue', 'East 32nd Street', 'Longridge Road', 'Glendora Avenue', 'Longridge Road', 'Longridge Road', 'Longridge Road', 'Longridge Road', 'Longridge Road', '9th Avenue', 'Park Boulevard', 'Longridge Road', 'Lagunitas Avenue', 'Park Boulevard', 'Park Boulevard', 'Park Boulevard', 'Park Boulevard', '18th Avenue', '11th Avenue', '11th Avenue', '11th Avenue', 'Park Boulevard', 'Park Boulevard', '9th Avenue', '9th Avenue', '9th Avenue', '9th Avenue', 'East 32nd Street', '9th Avenue', '9th Avenue', 'East 32nd Street', 'East 32nd Street', 'East 32nd Street', 'East 32nd Street', '23rd Avenue', '23rd Avenue', '23rd Avenue', '18th Avenue', '18th Avenue', '18th Avenue', '18th Avenue', '11th Avenue', '11th Avenue', '11th Avenue', 'Channel Path', 'CA 77', 'CA 77', 'Lancaster Street', 'International Boulevard', 'International Boulevard', '35th Avenue', 'International Boulevard', 'International Boulevard', 'International Boulevard', '23rd Avenue', '23rd Avenue', 'Davis Street', '23rd Avenue', '23rd Avenue', 'Davis Street', 'Davis Street', 'Humboldt Avenue', 'Davis Street', 'Davis Street', 'Davis Street', 'Quigley Street', 'Humboldt Avenue', 'Humboldt Avenue', 'Humboldt Avenue', 'Laguna Avenue', 'Laguna Avenue', 'Sylvan Avenue', 'Sylvan Avenue', 'Laguna Avenue', 'Sylvan Avenue', 'Laguna Avenue', 'Monterey Boulevard', 'Monterey Boulevard', 'High Street', 'Quigley Street', 'Sylvan Avenue', 'Monterey Boulevard', 'High Street', 'High Street', 'Quigley Street', 'Quigley Street', 'Quigley Street', 'Humboldt Avenue', 'Quigley Street', 'Rosedale Avenue', 'Rosedale Avenue', 'Rosedale Avenue', 'Rosedale Avenue', '35th Avenue', 'Rosedale Avenue', 'Rosedale Avenue', 'CA 77', '35th Avenue', '35th Avenue', '35th Avenue', 'Coliseum Way', 'International Boulevard', 'International Boulevard', '55th Avenue', 'International Boulevard', 'International Boulevard', '61st Avenue', '55th Avenue', '55th Avenue', 'Walnut Street', 'Walnut Street', 'Walnut Street', '55th Avenue', 'Rosedale Avenue', 'Madera Avenue', '61st Avenue', '61st Avenue', 'Madera Avenue', 'Madera Avenue', 'Oakdale Avenue', 'Madera Avenue', 'Madera Avenue', 'Walnut Street', 'Mountain Boulevard', 'Mountain Boulevard', 'Mountain Boulevard', 'High Street', 'High Street', 'Sunset Loop', 'Creighton Way', 'Creighton Way', 'Graeagle', 'Denton Place', None, 'Ney Avenue', 'Oakdale Avenue', 'Oakdale Avenue', None, None, 'Greenly Drive', 'Greenly Drive', 'Greenly Drive', 'Greenly Drive', 'Ney Avenue', 'Ney Avenue', '82nd Avenue', '82nd Avenue', '78th Avenue', '82nd Avenue', '78th Avenue', '78th Avenue', '78th Avenue', 'Foothill Boulevard', 'Foothill Boulevard', '78th Avenue', '70th Avenue', 'Foothill Boulevard', 'Foothill Boulevard', 'Foothill Boulevard', '70th Avenue', '66th Avenue', '61st Avenue', '61st Avenue', '70th Avenue', '70th Avenue', 'Oakport Street', '66th Avenue', '70th Avenue', '81st Avenue', '81st Avenue', '70th Avenue', 'Edes Avenue', 'San Leandro Street', 'Koford Road', 'Edes Avenue', 'Koford Road', '105th Avenue', '105th Avenue', '105th Avenue', '105th Avenue', 'Graffian Street', 'Graffian Street', 'Graffian Street', 'Matoza Lane', 'San Leandro Street', 'Graffian Street', 'Graffian Street', 'San Leandro Street', '87th Avenue', '87th Avenue', 'Plymouth Street', '87th Avenue', '81st Avenue', '87th Avenue', '87th Avenue', '82nd Avenue', 'Plymouth Street', 'Plymouth Street', 'Plymouth Street', 'Plymouth Street', 'Seneca Street', 'Hillgrade Court', 'Plymouth Street', '82nd Avenue', 'Seneca Street', 'Seneca Street', 'Crest Avenue', 'San Leandro Street', 'Sequoyah View Drive', 'Elysian Fields Drive', 'Tate Terrace', 'Tate Terrace', 'Golf Links Road', 'Golf Links Road', 'Aberfoil Avenue', 'Aberfoil Avenue', 'Jeep Trail', 'Hillgrade Court', 'Golf Links Road', 'Golf Links Road', 'Hollister Court', 'Hillgrade Court', 'Hillgrade Court', 'Hollister Court', 'Hollister Court', 'Hillgrade Court', 'Hillgrade Court', 'Graffian Street', 'Plymouth Street', 'Beverly Avenue', 'Beverly Avenue', 'Beverly Avenue', 'Beverly Avenue', 'Beverly Avenue', 'Carmel Avenue', 'Carmel Avenue', 'Carmel Avenue', 'San Pablo Avenue', 'Carmel Avenue', 'Solano Avenue', 'San Pablo Avenue', 'Solano Avenue', 'Solano Avenue', 'Bay Trail', None, 'Carmel Avenue', 'Neilson Street', 'Carmel Avenue', 'Carmel Avenue', 'Rose Street', 'Carmel Avenue', 'Acacia Walk', 'Wildcat Canyon Road', 'Acacia Walk', 'Acacia Walk', 'Acacia Walk', 'Los Angeles Avenue', 'The Alameda', 'The Alameda', 'The Alameda', 'Modoc Street', 'Modoc Street', 'Modoc Street', 'Modoc Street', 'Los Angeles Avenue', 'Los Angeles Avenue', 'Wildcat Canyon Road', 'Bay Tree Lane', 'Cragmont Avenue', 'Cragmont Avenue', 'Bay Tree Lane', 'Bay Tree Lane', 'Le Roy Avenue', 'Le Roy Avenue', 'Vine Street', 'Vine Street', 'Vine Street', 'Rose Street', 'Rose Street', 'Rose Street', 'Neilson Street', 'Neilson Street', 'Neilson Street', 'Neilson Street', 'Gilman Street', 'Gilman Street', 'Fifth Street', 'Channing Way', 'Folger Avenue', 'Gilman Street', 'Fifth Street', 'Rose Street', 'California Street', 'California Street', 'Curtis Street', 'Curtis Street', 'Rose Street', 'California Street', 'California Street', 'Vine Street', 'Center Street', 'Vine Street', 'Le Roy Avenue', 'Le Roy Avenue', 'Le Roy Avenue', 'Bancroft Way', 'Bancroft Way', 'Bancroft Way', 'Bancroft Way', 'Upper Sproul Plaza', 'Upper Sproul Plaza', 'Center Street', 'Center Street', 'Center Street', 'Parker Street', 'California Street', 'California Street', 'Curtis Street', 'Curtis Street', 'Tenth Street', 'Parker Street', 'Curtis Street', 'Tenth Street', 'Parker Street', 'Parker Street', '66th Street', 'Carleton Street', 'Parker Street', 'Parker Street', 'Parker Street', 'Carleton Street', 'Carleton Street', 'Carleton Street', 'Carleton Street', 'Stuart Street', 'Stuart Street', 'Stuart Street', 'Stuart Street', 'Kelsey Street', 'Kelsey Street', 'Kelsey Street', 'Kelsey Street', 'Slater Lane', 'Grove Shafter Freeway', 'Kelsey Street', 'Telegraph Avenue', 'Harmon Street', 'Harmon Street', 'Harmon Street', 'Harmon Street', 'Harmon Street', 'Harmon Street', '66th Street', '66th Street', '66th Street', 'Hollis Street', 'San Pablo Avenue', 'Bay Trail', 'Scenic Avenue', 'Glen Alpine Road', 'Glen Alpine Road', 'Requa Road', 'Requa Road', 'Requa Road', 'Ronada Avenue', 'Ronada Avenue', 'Requa Road', 'Magnolia Avenue', 'Mariposa Avenue', 'High Street', 'High Street', 'High Street', 'Clement Avenue', 'Lancaster Street', 'Clement Avenue', 'Santa Clara Avenue', 'Santa Clara Avenue', 'Santa Clara Avenue', 'Santa Clara Avenue', 'Wind River Way', 'Wind River Way', 'Cross-Alameda Trail', 'Cross-Alameda Trail', 'Cross-Alameda Trail', 'Cross-Alameda Trail', 'Fifth Street', 'Pier 3', 'Ralph Appezzato Memorial Parkway', 'Ralph Appezzato Memorial Parkway', \"Queen's Road\", \"Queen's Road\", 'Ballena Boulevard', 'Ralph Appezzato Memorial Parkway', 'Paru Street', 'Centennial Avenue', 'Centennial Avenue', 'Centennial Avenue', 'Centennial Avenue', 'Santa Clara Avenue', 'Paru Street', 'Paru Street', 'Paru Street', 'Paru Street', 'Paru Street', 'Clement Avenue', 'Santa Clara Avenue', 'High Street', 'High Street', 'Encinal Avenue', 'Encinal Avenue', 'High Street', 'Eastshore Drive', 'Ravens Cove Lane', 'Ravens Cove Lane', 'Encinal Avenue', 'Encinal Avenue', 'Encinal Avenue', 'Tonga Lane', 'Hudson Bay', 'South Loop Road', None, 'Cedar Street', None, 'Centennial Avenue', None, 'Cull Canyon Road', 'Columbia Drive', 'Katrina Court', 'Pepper Street', 'Pepper Street', 'Camino Alta Mira', 'Sweetbriar Place', 'Sweetbriar Place', 'Seven Hills Road', 'Seven Hills Road', 'Indian Cove Trail', 'Cambrian Drive', 'Rolando Avenue', 'Castro Valley Freeway', 'Seven Hills Road', 'Sprague Court', 'Eugene Terrace', 'Sprague Court', 'Seven Hills Road', 'Seven Hills Road', 'Samson Way', 'Meadowlark Drive', 'Paradise Knoll', 'Paradise Knoll', 'Meadowlark Drive', 'Samson Way', 'Sprague Court', 'Idena Avenue', 'Orange Avenue', 'Idena Avenue', 'Orange Avenue', 'Orange Avenue', 'North 3rd Street', 'North 3rd Street', 'Gary Drive', 'Hollister Court', 'MacArthur Freeway', 'Bridge Road', 'Hollister Court', 'East 14th Street', 'Hollister Court', 'Pala Avenue', 'Pala Avenue', 'Matoza Lane', 'East 14th Street', 'Matoza Lane', 'East 14th Street', 'Warden Avenue', 'Williams Street', 'Abram Court', 'West Avenue 136', 'West Avenue 136', 'Polvorosa Avenue', 'Pierce Avenue', 'Pierce Avenue', 'Pierce Avenue', 'Parrott Street', 'Pierce Avenue', 'Teagarden Street', 'Teagarden Street', 'Parrott Street', 'Pala Avenue', 'East 14th Street', 'East 14th Street', 'East 14th Street', 'Bridge Road', 'Bridge Road', 'Bridge Road', None, 'Humboldt Drive', 'Humboldt Drive', 'Fairmont Drive', 'Humboldt Drive', 'Bancroft Avenue', 'Bancroft Avenue', 'Humboldt Drive', 'Lark Street', 'Lark Street', 'Alvarado Street', 'Rose Drive', 'Rose Drive', 'Hesperian Boulevard', 'Hesperian Boulevard', 'Alvarado Street', 'Figueroa Drive', 'Caliente Drive', 'Hesperian Boulevard', 'Hesperian Boulevard', 'Caliente Drive', 'Birch Street', 'Beatrice Street', 'Dewey Street', 'Dewey Street', 'Figueroa Drive', 'Milford Street', 'Birch Street', 'Birch Street', 'West Avenue 140', 'Warbler Court', 'Catalina Street', 'San Francisco Bay Trail', 'Milford Street', 'Dewey Street', 'Farnsworth Street', 'Farnsworth Street', 'Dewey Street', 'Beatrice Street', 'Nielson Avenue', 'Nielson Avenue', 'Castro Valley Freeway', 'Crespi Place', 'Hesperian Boulevard', 'Fairmont Drive', '159th Avenue', '159th Avenue', 'Crespi Place', '159th Avenue', 'Liberty Street', 'Liberty Street', 'Liberty Street', 'Castro Valley Freeway', 'Clinton Avenue', 'Clinton Avenue', 'Crespi Place', 'Five Canyons Parkway', 'Palomares Road', 'Meyers Ranch Trail', 'Garin Avenue', 'Rhythm Lane', 'Halifax Place', 'Gamble Court', 'Atwal Court', 'B Street', 'Dexter Court', 'North 3rd Street', 'North 3rd Street', 'Main Street', 'B Street', 'Main Street', 'Gary Drive', 'Main Street', 'Main Street', 'Main Street', 'Blossom Way', 'Blossom Way', 'Four Seasons Place', 'Blossom Way', 'Laurel Avenue', 'Blossom Way', 'Via Bolsa', 'Via Bolsa', 'Via Bolsa', 'Nimitz Freeway', 'Via Bolsa', 'Via del Sol', 'Via del Sol', 'Via del Sol', 'Nielson Avenue', 'Keller Avenue', 'Via Harriet', 'Keller Avenue', 'Via Honda', 'Keller Avenue', 'Keller Avenue', 'Via Honda', 'Penny Lane', 'Via Honda', 'Nimitz Freeway', 'Nimitz Freeway', 'B Street', 'B Street', 'Winton Avenue', 'Winton Avenue', 'Atwal Court', 'Nina Court', 'East Avenue', 'East Avenue', 'East Avenue', 'Star Ridge Road', 'Star Ridge Road', 'Halifax Place', 'Central Boulevard', 'Central Boulevard', 'Joyce Street', 'Whitman Street', 'Lund Avenue', 'Lund Avenue', 'Joyce Street', 'Ida Lane', 'Ida Lane', 'Ida Lane', 'Tarman Avenue', 'Tarman Avenue', 'Tarman Avenue', 'Ida Lane', 'Blackwood Avenue', 'Ida Lane', 'Blackwood Avenue', 'Blackwood Avenue', 'La Playa Drive', 'Cathy Way', 'La Playa Drive', 'La Playa Drive', 'Clawiter Road', 'West Tennyson Road', 'San Francisco Bay Trail', 'Corsair Boulevard', 'Buchanan Way', 'Depot Road', 'Depot Road', 'Clawiter Road', 'Calaroga Avenue', 'Nimitz Freeway', 'West Tennyson Road', 'Patrick Avenue', 'Patrick Avenue', 'Nimitz Freeway', 'Nimitz Freeway', 'Patrick Avenue', 'Patrick Avenue', 'Seminole Way', 'Seminole Way', 'Patrick Avenue', 'Huntwood Avenue', 'Harvey Avenue', 'Huntwood Avenue', 'East 12th Street', 'East 12th Street', 'Mission Boulevard', 'East 12th Street', 'Garin Avenue', 'Macdonald Way', 'Macdonald Way', 'Rivercrest Lane', 'Rivercrest Lane', 'Rivercrest Lane', 'Macdonald Way', 'Utica Street', 'Utica Street', 'Whipple Road', 'Rivercrest Lane', 'Seminole Way', 'Egret Lane', 'Harvey Avenue', 'Harvey Avenue', 'Venus Street', 'Venus Street', 'San Benito Street', 'Seminole Way', 'Seminole Way', 'Calaroga Avenue', 'Calaroga Avenue', 'Egret Lane', 'Old Alameda Creek Path,  Hesperian to Whipple', 'South Fork Trail', 'G Street', 'G Street', 'G Street', 'G Street', 'Utica Street', 'Transit Avenue', 'Aptos Court', 'Old Alameda Creek Path,  Hesperian to Whipple', 'Aptos Court', 'Aptos Court', 'Castille Court', 'Alvarado Boulevard', 'Cabello Street', 'Laura Way', 'Laura Way', 'Cabello Street', 'Alvarado Boulevard', 'Laura Way', 'Central Court', 'Palm Drive', 'Lewis Street', 'Union Square', 'Hartnell Street', 'Amaleo Way', 'Zinnia Court', 'Quarry Lakes Road', 'Whipple Road', 'Union City Boulevard', 'Mowry Avenue', 'Cliff Trail', 'Mission Boulevard', 'Mission Boulevard', 'Vanda Way', 'San Francisco Bay Trail', 'Rowland Drive', 'Allegheny Court', 'Colusa Street', 'Warbler Loop', 'Audrey Court', 'Mission Boulevard', 'Newark Slough Trail', 'Torres Avenue', 'Torres Avenue', 'Bianca Drive', 'Bianca Drive', 'Fremont Boulevard', 'Wilburn Place', 'Thornton Avenue', 'Fremont Boulevard', 'Parkmont Drive', 'Parkmont Drive', 'Mission Creek Trail', 'Walnut Avenue', 'Mission View Drive', 'Civic Center Drive', 'Plumas Way', 'Fremont Boulevard', 'Mackintosh Terrace', 'Lemos Lane', 'Camino Santa Barbara', 'Bedford Street', 'Caldas Court', 'Joyce Avenue', 'Bedford Street', 'Wolcott Place', 'Trenouth Street', 'Trenouth Street', 'Trenouth Street', 'Mission View Drive', 'Ellen Street', 'Ellen Street', 'Natalie Avenue', 'Natalie Avenue', 'Logan Drive', 'Logan Drive', 'Logan Drive', 'Fremont Boulevard', 'Mildred Drive', 'Wilburn Place', 'Kimbro Street', 'Ballard Drive', 'Mildred Drive', 'Moores Avenue', 'Iolani Court', 'Bryce Canyon Park Drive', 'Everglades Park Drive', 'Bryce Canyon Park Drive', 'Delaware Drive', 'Auto Mall Parkway', 'Bellwood Court', 'Gallegos Avenue', 'Anza Street', None, 'East Warren Avenue', 'Gridley Court', 'Whitney Place', 'Rattan Court', 'Brighton Court', 'Brighton Court', 'Cedar Boulevard', 'Bayonne Drive', 'Haley Street', 'Jarvis Avenue', 'Dairy Avenue', None, 'Gateway Boulevard', 'Hafner Street', 'Hafner Street', 'Dairy Avenue', 'Cedar Boulevard', 'Hafner Street', 'Clark Avenue', 'Moores Avenue', 'Robertson Avenue', 'Eureka Drive', 'Iron Horse Trail', 'Iron Horse Trail', 'Sussex Court', 'Cardiff Court', 'Cardiff Court', 'Amador Valley Boulevard', 'Dublin Green Drive', 'Martin Canyon Creek Trail', 'Sinbad Creek Trail', 'Shady Creek Trail', 'Stoneridge Drive', 'Koll Center Parkway', 'Driftwood Way', None, 'Corwin Court', 'Echo Court', 'Echo Court', 'Corwin Court', 'Curlew Court', 'Shearwater Road', 'Curlew Court', 'Ridgewood Road', 'Ridgewood Road', 'Paseo del Cajon', 'Paseo del Cajon', 'Corte Trancas', 'Corte Trancas', 'Harrison Street', 'Pine Hill Lane', 'Pine Hill Lane', 'Pleasanton Avenue', 'Matthew Court', 'Calaveras Road', 'Graham Street', 'Graham Street', 'El Charro Road', 'Sylvaner Court', 'Rowell Lane', 'Pine Hill Lane', 'Gray Fox Circle', 'Salerno Drive', None, 'Kirkcaldy Street', 'Gibraltar Drive', 'Lerida Court', None, None, 'Brisa Street', 'Hillflower Drive', 'Redwood Road', 'North Livermore Avenue', 'Arthur H. Breed Junior Freeway', 'Wright Brothers Avenue', 'Airway Boulevard']}\n"
     ]
    }
   ],
   "source": [
    "print(updated_location)"
   ]
  },
  {
   "cell_type": "code",
   "execution_count": 18,
   "id": "e2f6719a",
   "metadata": {},
   "outputs": [
    {
     "data": {
      "text/plain": [
       "dict_keys(['County', 'Road'])"
      ]
     },
     "execution_count": 18,
     "metadata": {},
     "output_type": "execute_result"
    }
   ],
   "source": [
    "updated_location.keys()"
   ]
  },
  {
   "cell_type": "code",
   "execution_count": 19,
   "id": "b99b5a6c",
   "metadata": {},
   "outputs": [],
   "source": [
    "df_loc = pd.DataFrame(updated_location)"
   ]
  },
  {
   "cell_type": "code",
   "execution_count": 20,
   "id": "a9567bf6",
   "metadata": {},
   "outputs": [
    {
     "data": {
      "text/html": [
       "<div>\n",
       "<style scoped>\n",
       "    .dataframe tbody tr th:only-of-type {\n",
       "        vertical-align: middle;\n",
       "    }\n",
       "\n",
       "    .dataframe tbody tr th {\n",
       "        vertical-align: top;\n",
       "    }\n",
       "\n",
       "    .dataframe thead th {\n",
       "        text-align: right;\n",
       "    }\n",
       "</style>\n",
       "<table border=\"1\" class=\"dataframe\">\n",
       "  <thead>\n",
       "    <tr style=\"text-align: right;\">\n",
       "      <th></th>\n",
       "      <th>County</th>\n",
       "      <th>Road</th>\n",
       "    </tr>\n",
       "  </thead>\n",
       "  <tbody>\n",
       "    <tr>\n",
       "      <th>990</th>\n",
       "      <td>Alameda County</td>\n",
       "      <td>Lerida Court</td>\n",
       "    </tr>\n",
       "    <tr>\n",
       "      <th>991</th>\n",
       "      <td>Alameda County</td>\n",
       "      <td>None</td>\n",
       "    </tr>\n",
       "    <tr>\n",
       "      <th>992</th>\n",
       "      <td>Alameda County</td>\n",
       "      <td>None</td>\n",
       "    </tr>\n",
       "    <tr>\n",
       "      <th>993</th>\n",
       "      <td>Alameda County</td>\n",
       "      <td>Brisa Street</td>\n",
       "    </tr>\n",
       "    <tr>\n",
       "      <th>994</th>\n",
       "      <td>Alameda County</td>\n",
       "      <td>Hillflower Drive</td>\n",
       "    </tr>\n",
       "    <tr>\n",
       "      <th>995</th>\n",
       "      <td>Alameda County</td>\n",
       "      <td>Redwood Road</td>\n",
       "    </tr>\n",
       "    <tr>\n",
       "      <th>996</th>\n",
       "      <td>Alameda County</td>\n",
       "      <td>North Livermore Avenue</td>\n",
       "    </tr>\n",
       "    <tr>\n",
       "      <th>997</th>\n",
       "      <td>Alameda County</td>\n",
       "      <td>Arthur H. Breed Junior Freeway</td>\n",
       "    </tr>\n",
       "    <tr>\n",
       "      <th>998</th>\n",
       "      <td>Alameda County</td>\n",
       "      <td>Wright Brothers Avenue</td>\n",
       "    </tr>\n",
       "    <tr>\n",
       "      <th>999</th>\n",
       "      <td>Alameda County</td>\n",
       "      <td>Airway Boulevard</td>\n",
       "    </tr>\n",
       "  </tbody>\n",
       "</table>\n",
       "</div>"
      ],
      "text/plain": [
       "             County                            Road\n",
       "990  Alameda County                    Lerida Court\n",
       "991  Alameda County                            None\n",
       "992  Alameda County                            None\n",
       "993  Alameda County                    Brisa Street\n",
       "994  Alameda County                Hillflower Drive\n",
       "995  Alameda County                    Redwood Road\n",
       "996  Alameda County          North Livermore Avenue\n",
       "997  Alameda County  Arthur H. Breed Junior Freeway\n",
       "998  Alameda County          Wright Brothers Avenue\n",
       "999  Alameda County                Airway Boulevard"
      ]
     },
     "execution_count": 20,
     "metadata": {},
     "output_type": "execute_result"
    }
   ],
   "source": [
    "df_loc.tail(10)"
   ]
  },
  {
   "cell_type": "code",
   "execution_count": 21,
   "id": "c10cb9bf",
   "metadata": {},
   "outputs": [
    {
     "name": "stdout",
     "output_type": "stream",
     "text": [
      "<class 'pandas.core.frame.DataFrame'>\n",
      "RangeIndex: 1000 entries, 0 to 999\n",
      "Data columns (total 2 columns):\n",
      " #   Column  Non-Null Count  Dtype \n",
      "---  ------  --------------  ----- \n",
      " 0   County  1000 non-null   object\n",
      " 1   Road    986 non-null    object\n",
      "dtypes: object(2)\n",
      "memory usage: 15.8+ KB\n"
     ]
    }
   ],
   "source": [
    "df_loc.info()"
   ]
  },
  {
   "cell_type": "code",
   "execution_count": 22,
   "id": "c8b6d1bf",
   "metadata": {},
   "outputs": [
    {
     "name": "stdout",
     "output_type": "stream",
     "text": [
      "None 284\n",
      "None 288\n",
      "None 289\n",
      "None 395\n",
      "None 571\n",
      "None 573\n",
      "None 575\n",
      "None 644\n",
      "None 923\n",
      "None 935\n",
      "None 959\n",
      "None 987\n",
      "None 991\n",
      "None 992\n"
     ]
    }
   ],
   "source": [
    "# my test code\n",
    "x = 0\n",
    "for i in df_loc['Road']:\n",
    "    if i == None:\n",
    "        print(i, x)\n",
    "    x+=1"
   ]
  },
  {
   "cell_type": "code",
   "execution_count": 23,
   "id": "5529de49",
   "metadata": {},
   "outputs": [
    {
     "data": {
      "text/html": [
       "<div>\n",
       "<style scoped>\n",
       "    .dataframe tbody tr th:only-of-type {\n",
       "        vertical-align: middle;\n",
       "    }\n",
       "\n",
       "    .dataframe tbody tr th {\n",
       "        vertical-align: top;\n",
       "    }\n",
       "\n",
       "    .dataframe thead th {\n",
       "        text-align: right;\n",
       "    }\n",
       "</style>\n",
       "<table border=\"1\" class=\"dataframe\">\n",
       "  <thead>\n",
       "    <tr style=\"text-align: right;\">\n",
       "      <th></th>\n",
       "      <th>MedInc</th>\n",
       "      <th>HouseAge</th>\n",
       "      <th>AveRooms</th>\n",
       "      <th>AveBedrms</th>\n",
       "      <th>Population</th>\n",
       "      <th>AveOccup</th>\n",
       "      <th>Latitude</th>\n",
       "      <th>Longitude</th>\n",
       "      <th>Target</th>\n",
       "      <th>County</th>\n",
       "      <th>Road</th>\n",
       "    </tr>\n",
       "  </thead>\n",
       "  <tbody>\n",
       "    <tr>\n",
       "      <th>813</th>\n",
       "      <td>3.7262</td>\n",
       "      <td>36.0</td>\n",
       "      <td>5.014235</td>\n",
       "      <td>0.964413</td>\n",
       "      <td>1002.0</td>\n",
       "      <td>3.565836</td>\n",
       "      <td>37.61</td>\n",
       "      <td>-122.03</td>\n",
       "      <td>1.649</td>\n",
       "      <td>Alameda County</td>\n",
       "      <td>Utica Street</td>\n",
       "    </tr>\n",
       "    <tr>\n",
       "      <th>611</th>\n",
       "      <td>3.8510</td>\n",
       "      <td>52.0</td>\n",
       "      <td>5.269091</td>\n",
       "      <td>1.012727</td>\n",
       "      <td>1338.0</td>\n",
       "      <td>2.432727</td>\n",
       "      <td>37.74</td>\n",
       "      <td>-122.15</td>\n",
       "      <td>1.835</td>\n",
       "      <td>Alameda County</td>\n",
       "      <td>Hollister Court</td>\n",
       "    </tr>\n",
       "    <tr>\n",
       "      <th>403</th>\n",
       "      <td>7.8864</td>\n",
       "      <td>52.0</td>\n",
       "      <td>6.690972</td>\n",
       "      <td>0.968750</td>\n",
       "      <td>705.0</td>\n",
       "      <td>2.447917</td>\n",
       "      <td>37.90</td>\n",
       "      <td>-122.26</td>\n",
       "      <td>3.573</td>\n",
       "      <td>Alameda County</td>\n",
       "      <td>Wildcat Canyon Road</td>\n",
       "    </tr>\n",
       "    <tr>\n",
       "      <th>349</th>\n",
       "      <td>2.3281</td>\n",
       "      <td>44.0</td>\n",
       "      <td>4.795276</td>\n",
       "      <td>0.976378</td>\n",
       "      <td>763.0</td>\n",
       "      <td>3.003937</td>\n",
       "      <td>37.75</td>\n",
       "      <td>-122.17</td>\n",
       "      <td>0.888</td>\n",
       "      <td>Alameda County</td>\n",
       "      <td>Plymouth Street</td>\n",
       "    </tr>\n",
       "    <tr>\n",
       "      <th>49</th>\n",
       "      <td>1.7750</td>\n",
       "      <td>40.0</td>\n",
       "      <td>2.687500</td>\n",
       "      <td>1.065341</td>\n",
       "      <td>700.0</td>\n",
       "      <td>1.988636</td>\n",
       "      <td>37.82</td>\n",
       "      <td>-122.27</td>\n",
       "      <td>1.125</td>\n",
       "      <td>Alameda County</td>\n",
       "      <td>Grove Shafter Freeway</td>\n",
       "    </tr>\n",
       "    <tr>\n",
       "      <th>264</th>\n",
       "      <td>2.3125</td>\n",
       "      <td>44.0</td>\n",
       "      <td>4.399491</td>\n",
       "      <td>1.053435</td>\n",
       "      <td>1240.0</td>\n",
       "      <td>3.155216</td>\n",
       "      <td>37.78</td>\n",
       "      <td>-122.21</td>\n",
       "      <td>1.028</td>\n",
       "      <td>Alameda County</td>\n",
       "      <td>Rosedale Avenue</td>\n",
       "    </tr>\n",
       "    <tr>\n",
       "      <th>589</th>\n",
       "      <td>3.7222</td>\n",
       "      <td>30.0</td>\n",
       "      <td>5.484155</td>\n",
       "      <td>1.100352</td>\n",
       "      <td>1444.0</td>\n",
       "      <td>2.542254</td>\n",
       "      <td>37.69</td>\n",
       "      <td>-122.10</td>\n",
       "      <td>1.958</td>\n",
       "      <td>Alameda County</td>\n",
       "      <td>Castro Valley Freeway</td>\n",
       "    </tr>\n",
       "    <tr>\n",
       "      <th>26</th>\n",
       "      <td>2.4597</td>\n",
       "      <td>49.0</td>\n",
       "      <td>4.728033</td>\n",
       "      <td>1.020921</td>\n",
       "      <td>607.0</td>\n",
       "      <td>2.539749</td>\n",
       "      <td>37.85</td>\n",
       "      <td>-122.28</td>\n",
       "      <td>0.938</td>\n",
       "      <td>Alameda County</td>\n",
       "      <td>66th Street</td>\n",
       "    </tr>\n",
       "    <tr>\n",
       "      <th>327</th>\n",
       "      <td>2.9063</td>\n",
       "      <td>42.0</td>\n",
       "      <td>4.590909</td>\n",
       "      <td>1.085859</td>\n",
       "      <td>646.0</td>\n",
       "      <td>3.262626</td>\n",
       "      <td>37.73</td>\n",
       "      <td>-122.18</td>\n",
       "      <td>0.800</td>\n",
       "      <td>Alameda County</td>\n",
       "      <td>105th Avenue</td>\n",
       "    </tr>\n",
       "    <tr>\n",
       "      <th>116</th>\n",
       "      <td>2.4234</td>\n",
       "      <td>28.0</td>\n",
       "      <td>3.023480</td>\n",
       "      <td>1.053582</td>\n",
       "      <td>2558.0</td>\n",
       "      <td>1.540036</td>\n",
       "      <td>37.83</td>\n",
       "      <td>-122.25</td>\n",
       "      <td>2.185</td>\n",
       "      <td>Alameda County</td>\n",
       "      <td>John Street</td>\n",
       "    </tr>\n",
       "  </tbody>\n",
       "</table>\n",
       "</div>"
      ],
      "text/plain": [
       "     MedInc  HouseAge  AveRooms  AveBedrms  Population  AveOccup  Latitude  \\\n",
       "813  3.7262      36.0  5.014235   0.964413      1002.0  3.565836     37.61   \n",
       "611  3.8510      52.0  5.269091   1.012727      1338.0  2.432727     37.74   \n",
       "403  7.8864      52.0  6.690972   0.968750       705.0  2.447917     37.90   \n",
       "349  2.3281      44.0  4.795276   0.976378       763.0  3.003937     37.75   \n",
       "49   1.7750      40.0  2.687500   1.065341       700.0  1.988636     37.82   \n",
       "264  2.3125      44.0  4.399491   1.053435      1240.0  3.155216     37.78   \n",
       "589  3.7222      30.0  5.484155   1.100352      1444.0  2.542254     37.69   \n",
       "26   2.4597      49.0  4.728033   1.020921       607.0  2.539749     37.85   \n",
       "327  2.9063      42.0  4.590909   1.085859       646.0  3.262626     37.73   \n",
       "116  2.4234      28.0  3.023480   1.053582      2558.0  1.540036     37.83   \n",
       "\n",
       "     Longitude  Target          County                   Road  \n",
       "813    -122.03   1.649  Alameda County           Utica Street  \n",
       "611    -122.15   1.835  Alameda County        Hollister Court  \n",
       "403    -122.26   3.573  Alameda County    Wildcat Canyon Road  \n",
       "349    -122.17   0.888  Alameda County        Plymouth Street  \n",
       "49     -122.27   1.125  Alameda County  Grove Shafter Freeway  \n",
       "264    -122.21   1.028  Alameda County        Rosedale Avenue  \n",
       "589    -122.10   1.958  Alameda County  Castro Valley Freeway  \n",
       "26     -122.28   0.938  Alameda County            66th Street  \n",
       "327    -122.18   0.800  Alameda County           105th Avenue  \n",
       "116    -122.25   2.185  Alameda County            John Street  "
      ]
     },
     "execution_count": 23,
     "metadata": {},
     "output_type": "execute_result"
    }
   ],
   "source": [
    "# update the original dataframe with new features\n",
    "\n",
    "for i in updated_location.keys():\n",
    "    df[i] = updated_location[i]\n",
    "    \n",
    "df = df.sample(axis=0, frac=1)\n",
    "\n",
    "df.head(10)"
   ]
  },
  {
   "cell_type": "code",
   "execution_count": 24,
   "id": "1735e0da",
   "metadata": {},
   "outputs": [
    {
     "data": {
      "text/plain": [
       "Index(['MedInc', 'HouseAge', 'AveRooms', 'AveBedrms', 'Population', 'AveOccup',\n",
       "       'Latitude', 'Longitude', 'Target', 'County', 'Road'],\n",
       "      dtype='object')"
      ]
     },
     "execution_count": 24,
     "metadata": {},
     "output_type": "execute_result"
    }
   ],
   "source": [
    "df.columns"
   ]
  },
  {
   "cell_type": "code",
   "execution_count": 25,
   "id": "a021c88a",
   "metadata": {},
   "outputs": [],
   "source": [
    "# drop unnecessary columns\n",
    "df.drop(labels=['Latitude', 'Longitude'], axis=1, inplace=True)"
   ]
  },
  {
   "cell_type": "code",
   "execution_count": 26,
   "id": "34cc08b1",
   "metadata": {},
   "outputs": [
    {
     "data": {
      "text/html": [
       "<div>\n",
       "<style scoped>\n",
       "    .dataframe tbody tr th:only-of-type {\n",
       "        vertical-align: middle;\n",
       "    }\n",
       "\n",
       "    .dataframe tbody tr th {\n",
       "        vertical-align: top;\n",
       "    }\n",
       "\n",
       "    .dataframe thead th {\n",
       "        text-align: right;\n",
       "    }\n",
       "</style>\n",
       "<table border=\"1\" class=\"dataframe\">\n",
       "  <thead>\n",
       "    <tr style=\"text-align: right;\">\n",
       "      <th></th>\n",
       "      <th>MedInc</th>\n",
       "      <th>HouseAge</th>\n",
       "      <th>AveRooms</th>\n",
       "      <th>AveBedrms</th>\n",
       "      <th>Population</th>\n",
       "      <th>AveOccup</th>\n",
       "      <th>Target</th>\n",
       "      <th>County</th>\n",
       "      <th>Road</th>\n",
       "    </tr>\n",
       "  </thead>\n",
       "  <tbody>\n",
       "    <tr>\n",
       "      <th>813</th>\n",
       "      <td>3.7262</td>\n",
       "      <td>36.0</td>\n",
       "      <td>5.014235</td>\n",
       "      <td>0.964413</td>\n",
       "      <td>1002.0</td>\n",
       "      <td>3.565836</td>\n",
       "      <td>1.649</td>\n",
       "      <td>Alameda County</td>\n",
       "      <td>Utica Street</td>\n",
       "    </tr>\n",
       "    <tr>\n",
       "      <th>611</th>\n",
       "      <td>3.8510</td>\n",
       "      <td>52.0</td>\n",
       "      <td>5.269091</td>\n",
       "      <td>1.012727</td>\n",
       "      <td>1338.0</td>\n",
       "      <td>2.432727</td>\n",
       "      <td>1.835</td>\n",
       "      <td>Alameda County</td>\n",
       "      <td>Hollister Court</td>\n",
       "    </tr>\n",
       "    <tr>\n",
       "      <th>403</th>\n",
       "      <td>7.8864</td>\n",
       "      <td>52.0</td>\n",
       "      <td>6.690972</td>\n",
       "      <td>0.968750</td>\n",
       "      <td>705.0</td>\n",
       "      <td>2.447917</td>\n",
       "      <td>3.573</td>\n",
       "      <td>Alameda County</td>\n",
       "      <td>Wildcat Canyon Road</td>\n",
       "    </tr>\n",
       "    <tr>\n",
       "      <th>349</th>\n",
       "      <td>2.3281</td>\n",
       "      <td>44.0</td>\n",
       "      <td>4.795276</td>\n",
       "      <td>0.976378</td>\n",
       "      <td>763.0</td>\n",
       "      <td>3.003937</td>\n",
       "      <td>0.888</td>\n",
       "      <td>Alameda County</td>\n",
       "      <td>Plymouth Street</td>\n",
       "    </tr>\n",
       "    <tr>\n",
       "      <th>49</th>\n",
       "      <td>1.7750</td>\n",
       "      <td>40.0</td>\n",
       "      <td>2.687500</td>\n",
       "      <td>1.065341</td>\n",
       "      <td>700.0</td>\n",
       "      <td>1.988636</td>\n",
       "      <td>1.125</td>\n",
       "      <td>Alameda County</td>\n",
       "      <td>Grove Shafter Freeway</td>\n",
       "    </tr>\n",
       "  </tbody>\n",
       "</table>\n",
       "</div>"
      ],
      "text/plain": [
       "     MedInc  HouseAge  AveRooms  AveBedrms  Population  AveOccup  Target  \\\n",
       "813  3.7262      36.0  5.014235   0.964413      1002.0  3.565836   1.649   \n",
       "611  3.8510      52.0  5.269091   1.012727      1338.0  2.432727   1.835   \n",
       "403  7.8864      52.0  6.690972   0.968750       705.0  2.447917   3.573   \n",
       "349  2.3281      44.0  4.795276   0.976378       763.0  3.003937   0.888   \n",
       "49   1.7750      40.0  2.687500   1.065341       700.0  1.988636   1.125   \n",
       "\n",
       "             County                   Road  \n",
       "813  Alameda County           Utica Street  \n",
       "611  Alameda County        Hollister Court  \n",
       "403  Alameda County    Wildcat Canyon Road  \n",
       "349  Alameda County        Plymouth Street  \n",
       "49   Alameda County  Grove Shafter Freeway  "
      ]
     },
     "execution_count": 26,
     "metadata": {},
     "output_type": "execute_result"
    }
   ],
   "source": [
    "df.head()"
   ]
  },
  {
   "cell_type": "code",
   "execution_count": 27,
   "id": "52ded0c9",
   "metadata": {},
   "outputs": [
    {
     "data": {
      "text/plain": [
       "MedInc         0\n",
       "HouseAge       0\n",
       "AveRooms       0\n",
       "AveBedrms      0\n",
       "Population     0\n",
       "AveOccup       0\n",
       "Target         0\n",
       "County         0\n",
       "Road          14\n",
       "dtype: int64"
      ]
     },
     "execution_count": 27,
     "metadata": {},
     "output_type": "execute_result"
    }
   ],
   "source": [
    "df.isnull().sum()"
   ]
  },
  {
   "cell_type": "markdown",
   "id": "8b4de585",
   "metadata": {},
   "source": [
    "### Using classification algorithm to fill the missing categorical values ###"
   ]
  },
  {
   "cell_type": "code",
   "execution_count": 28,
   "id": "85fd62cb",
   "metadata": {},
   "outputs": [],
   "source": [
    "missing_idx = []\n",
    "\n",
    "for i in range(df.shape[0]):\n",
    "    if df[\"Road\"][i] is None:\n",
    "        missing_idx.append(i)"
   ]
  },
  {
   "cell_type": "code",
   "execution_count": 29,
   "id": "6fed5817",
   "metadata": {},
   "outputs": [
    {
     "data": {
      "text/plain": [
       "[284, 288, 289, 395, 571, 573, 575, 644, 923, 935, 959, 987, 991, 992]"
      ]
     },
     "execution_count": 29,
     "metadata": {},
     "output_type": "execute_result"
    }
   ],
   "source": [
    "missing_idx"
   ]
  },
  {
   "cell_type": "code",
   "execution_count": 30,
   "id": "6f3f2aa6",
   "metadata": {},
   "outputs": [],
   "source": [
    "# apply logistic reggression to fill missing values\n",
    "\n",
    "# Independent Parameters\n",
    "missing_road_X_train = np.array([ [df['MedInc'][i], df['AveRooms'][i], df['AveBedrms'][i]] for i in range(df.shape[0]) if i not in missing_idx ])\n",
    "\n",
    "# Dependent Parameters\n",
    "missing_road_y_train = np.array([ df['Road'][i] for i in range(df.shape[0]) if i not in missing_idx ])\n",
    "\n",
    "missing_road_X_test = np.array([ [df['MedInc'][i], df['AveRooms'][i], df['AveBedrms'][i]] for i in range(df.shape[0]) if i in missing_idx ])"
   ]
  },
  {
   "cell_type": "code",
   "execution_count": 31,
   "id": "9655101b",
   "metadata": {},
   "outputs": [],
   "source": [
    "from sklearn.linear_model import SGDClassifier\n",
    "\n",
    "# model initialization\n",
    "model_1 = SGDClassifier()\n",
    "\n",
    "# model training\n",
    "model_1.fit(missing_road_X_train, missing_road_y_train)\n",
    "\n",
    "missing_road_y_pred = model_1.predict(missing_road_X_test)"
   ]
  },
  {
   "cell_type": "code",
   "execution_count": 35,
   "id": "926829f0",
   "metadata": {},
   "outputs": [
    {
     "data": {
      "text/plain": [
       "array(['11th Avenue', 'Glendora Avenue', 'Greenly Drive', 'High Street',\n",
       "       'Meadowlark Drive', 'Ridgewood Road'], dtype='<U45')"
      ]
     },
     "execution_count": 35,
     "metadata": {},
     "output_type": "execute_result"
    }
   ],
   "source": [
    "np.unique(missing_road_y_pred)"
   ]
  },
  {
   "cell_type": "code",
   "execution_count": 36,
   "id": "98d94349",
   "metadata": {},
   "outputs": [
    {
     "name": "stderr",
     "output_type": "stream",
     "text": [
      "C:\\Users\\SudharaD\\AppData\\Local\\Temp\\ipykernel_16308\\2178003064.py:4: SettingWithCopyWarning: \n",
      "A value is trying to be set on a copy of a slice from a DataFrame\n",
      "\n",
      "See the caveats in the documentation: https://pandas.pydata.org/pandas-docs/stable/user_guide/indexing.html#returning-a-view-versus-a-copy\n",
      "  df['Road'][i] = missing_road_y_pred[n]\n"
     ]
    }
   ],
   "source": [
    "# add the model back to the dataframe\n",
    "\n",
    "for n,i in enumerate(missing_idx):\n",
    "    df['Road'][i] = missing_road_y_pred[n]"
   ]
  },
  {
   "cell_type": "markdown",
   "id": "d6b8b0f4",
   "metadata": {},
   "source": [
    "The warning message you received is a pandas warning called SettingWithCopyWarning. It is triggered when you are assigning a value to a slice of a DataFrame that could be a copy of the original DataFrame instead of a view. This warning is meant to alert you to a potential pitfall where the assignment may not have the desired effect.\n",
    "\n",
    "In your code snippet, the line df['Road'][i] = missing_road_y_pred[n] is attempting to assign a value to a specific element in the 'Road' column of the DataFrame df. However, this line of code can trigger the SettingWithCopyWarning if df is a result of a previous slicing operation on another DataFrame.\n",
    "\n",
    "To address this warning, you can use the .loc accessor to explicitly indicate that you want to modify the original DataFrame instead of working on a copy. Here's an updated version of your code snippet that uses the .loc accessor:\n",
    "\n",
    "for n, i in enumerate(missing_idx):\n",
    "    df.loc[i, 'Road'] = missing_road_y_pred[n]\n",
    "    \n",
    "By using df.loc[i, 'Road'], you are explicitly referencing the original DataFrame df and modifying the specific element at index i in the 'Road' column.\n",
    "\n",
    "Using the .loc accessor ensures that the assignment is done on the original DataFrame and helps avoid the SettingWithCopyWarning.\n",
    "\n",
    "However, please note that this warning can sometimes be triggered even when the assignment is not problematic. It is always a good practice to double-check your code and make sure the assignments are behaving as intended."
   ]
  },
  {
   "cell_type": "code",
   "execution_count": 37,
   "id": "ff7da139",
   "metadata": {},
   "outputs": [
    {
     "data": {
      "text/plain": [
       "MedInc        0\n",
       "HouseAge      0\n",
       "AveRooms      0\n",
       "AveBedrms     0\n",
       "Population    0\n",
       "AveOccup      0\n",
       "Target        0\n",
       "County        0\n",
       "Road          0\n",
       "dtype: int64"
      ]
     },
     "execution_count": 37,
     "metadata": {},
     "output_type": "execute_result"
    }
   ],
   "source": [
    "df.isnull().sum()"
   ]
  },
  {
   "cell_type": "code",
   "execution_count": 39,
   "id": "d5e35455",
   "metadata": {},
   "outputs": [],
   "source": [
    "# Label Encording\n",
    "from sklearn.preprocessing import LabelEncoder\n",
    "\n",
    "le = LabelEncoder()\n",
    "\n",
    "df['Road'] = le.fit_transform(df['Road'])"
   ]
  },
  {
   "cell_type": "code",
   "execution_count": 40,
   "id": "98325f96",
   "metadata": {},
   "outputs": [
    {
     "data": {
      "text/html": [
       "<div>\n",
       "<style scoped>\n",
       "    .dataframe tbody tr th:only-of-type {\n",
       "        vertical-align: middle;\n",
       "    }\n",
       "\n",
       "    .dataframe tbody tr th {\n",
       "        vertical-align: top;\n",
       "    }\n",
       "\n",
       "    .dataframe thead th {\n",
       "        text-align: right;\n",
       "    }\n",
       "</style>\n",
       "<table border=\"1\" class=\"dataframe\">\n",
       "  <thead>\n",
       "    <tr style=\"text-align: right;\">\n",
       "      <th></th>\n",
       "      <th>MedInc</th>\n",
       "      <th>HouseAge</th>\n",
       "      <th>AveRooms</th>\n",
       "      <th>AveBedrms</th>\n",
       "      <th>Population</th>\n",
       "      <th>AveOccup</th>\n",
       "      <th>Target</th>\n",
       "      <th>County</th>\n",
       "      <th>Road</th>\n",
       "    </tr>\n",
       "  </thead>\n",
       "  <tbody>\n",
       "    <tr>\n",
       "      <th>813</th>\n",
       "      <td>3.7262</td>\n",
       "      <td>36.0</td>\n",
       "      <td>5.014235</td>\n",
       "      <td>0.964413</td>\n",
       "      <td>1002.0</td>\n",
       "      <td>3.565836</td>\n",
       "      <td>1.649</td>\n",
       "      <td>Alameda County</td>\n",
       "      <td>351</td>\n",
       "    </tr>\n",
       "    <tr>\n",
       "      <th>611</th>\n",
       "      <td>3.8510</td>\n",
       "      <td>52.0</td>\n",
       "      <td>5.269091</td>\n",
       "      <td>1.012727</td>\n",
       "      <td>1338.0</td>\n",
       "      <td>2.432727</td>\n",
       "      <td>1.835</td>\n",
       "      <td>Alameda County</td>\n",
       "      <td>177</td>\n",
       "    </tr>\n",
       "    <tr>\n",
       "      <th>403</th>\n",
       "      <td>7.8864</td>\n",
       "      <td>52.0</td>\n",
       "      <td>6.690972</td>\n",
       "      <td>0.968750</td>\n",
       "      <td>705.0</td>\n",
       "      <td>2.447917</td>\n",
       "      <td>3.573</td>\n",
       "      <td>Alameda County</td>\n",
       "      <td>373</td>\n",
       "    </tr>\n",
       "    <tr>\n",
       "      <th>349</th>\n",
       "      <td>2.3281</td>\n",
       "      <td>44.0</td>\n",
       "      <td>4.795276</td>\n",
       "      <td>0.976378</td>\n",
       "      <td>763.0</td>\n",
       "      <td>3.003937</td>\n",
       "      <td>0.888</td>\n",
       "      <td>Alameda County</td>\n",
       "      <td>281</td>\n",
       "    </tr>\n",
       "    <tr>\n",
       "      <th>49</th>\n",
       "      <td>1.7750</td>\n",
       "      <td>40.0</td>\n",
       "      <td>2.687500</td>\n",
       "      <td>1.065341</td>\n",
       "      <td>700.0</td>\n",
       "      <td>1.988636</td>\n",
       "      <td>1.125</td>\n",
       "      <td>Alameda County</td>\n",
       "      <td>163</td>\n",
       "    </tr>\n",
       "  </tbody>\n",
       "</table>\n",
       "</div>"
      ],
      "text/plain": [
       "     MedInc  HouseAge  AveRooms  AveBedrms  Population  AveOccup  Target  \\\n",
       "813  3.7262      36.0  5.014235   0.964413      1002.0  3.565836   1.649   \n",
       "611  3.8510      52.0  5.269091   1.012727      1338.0  2.432727   1.835   \n",
       "403  7.8864      52.0  6.690972   0.968750       705.0  2.447917   3.573   \n",
       "349  2.3281      44.0  4.795276   0.976378       763.0  3.003937   0.888   \n",
       "49   1.7750      40.0  2.687500   1.065341       700.0  1.988636   1.125   \n",
       "\n",
       "             County  Road  \n",
       "813  Alameda County   351  \n",
       "611  Alameda County   177  \n",
       "403  Alameda County   373  \n",
       "349  Alameda County   281  \n",
       "49   Alameda County   163  "
      ]
     },
     "execution_count": 40,
     "metadata": {},
     "output_type": "execute_result"
    }
   ],
   "source": [
    "df.head()"
   ]
  },
  {
   "cell_type": "code",
   "execution_count": 41,
   "id": "10300efc",
   "metadata": {},
   "outputs": [
    {
     "data": {
      "text/html": [
       "<div>\n",
       "<style scoped>\n",
       "    .dataframe tbody tr th:only-of-type {\n",
       "        vertical-align: middle;\n",
       "    }\n",
       "\n",
       "    .dataframe tbody tr th {\n",
       "        vertical-align: top;\n",
       "    }\n",
       "\n",
       "    .dataframe thead th {\n",
       "        text-align: right;\n",
       "    }\n",
       "</style>\n",
       "<table border=\"1\" class=\"dataframe\">\n",
       "  <thead>\n",
       "    <tr style=\"text-align: right;\">\n",
       "      <th></th>\n",
       "      <th>MedInc</th>\n",
       "      <th>HouseAge</th>\n",
       "      <th>AveRooms</th>\n",
       "      <th>AveBedrms</th>\n",
       "      <th>Population</th>\n",
       "      <th>AveOccup</th>\n",
       "      <th>Target</th>\n",
       "      <th>County</th>\n",
       "      <th>Road</th>\n",
       "    </tr>\n",
       "  </thead>\n",
       "  <tbody>\n",
       "    <tr>\n",
       "      <th>813</th>\n",
       "      <td>3.7262</td>\n",
       "      <td>36.0</td>\n",
       "      <td>5.014235</td>\n",
       "      <td>0.964413</td>\n",
       "      <td>1002.0</td>\n",
       "      <td>3.565836</td>\n",
       "      <td>1.649</td>\n",
       "      <td>0</td>\n",
       "      <td>351</td>\n",
       "    </tr>\n",
       "    <tr>\n",
       "      <th>611</th>\n",
       "      <td>3.8510</td>\n",
       "      <td>52.0</td>\n",
       "      <td>5.269091</td>\n",
       "      <td>1.012727</td>\n",
       "      <td>1338.0</td>\n",
       "      <td>2.432727</td>\n",
       "      <td>1.835</td>\n",
       "      <td>0</td>\n",
       "      <td>177</td>\n",
       "    </tr>\n",
       "    <tr>\n",
       "      <th>403</th>\n",
       "      <td>7.8864</td>\n",
       "      <td>52.0</td>\n",
       "      <td>6.690972</td>\n",
       "      <td>0.968750</td>\n",
       "      <td>705.0</td>\n",
       "      <td>2.447917</td>\n",
       "      <td>3.573</td>\n",
       "      <td>0</td>\n",
       "      <td>373</td>\n",
       "    </tr>\n",
       "    <tr>\n",
       "      <th>349</th>\n",
       "      <td>2.3281</td>\n",
       "      <td>44.0</td>\n",
       "      <td>4.795276</td>\n",
       "      <td>0.976378</td>\n",
       "      <td>763.0</td>\n",
       "      <td>3.003937</td>\n",
       "      <td>0.888</td>\n",
       "      <td>0</td>\n",
       "      <td>281</td>\n",
       "    </tr>\n",
       "    <tr>\n",
       "      <th>49</th>\n",
       "      <td>1.7750</td>\n",
       "      <td>40.0</td>\n",
       "      <td>2.687500</td>\n",
       "      <td>1.065341</td>\n",
       "      <td>700.0</td>\n",
       "      <td>1.988636</td>\n",
       "      <td>1.125</td>\n",
       "      <td>0</td>\n",
       "      <td>163</td>\n",
       "    </tr>\n",
       "  </tbody>\n",
       "</table>\n",
       "</div>"
      ],
      "text/plain": [
       "     MedInc  HouseAge  AveRooms  AveBedrms  Population  AveOccup  Target  \\\n",
       "813  3.7262      36.0  5.014235   0.964413      1002.0  3.565836   1.649   \n",
       "611  3.8510      52.0  5.269091   1.012727      1338.0  2.432727   1.835   \n",
       "403  7.8864      52.0  6.690972   0.968750       705.0  2.447917   3.573   \n",
       "349  2.3281      44.0  4.795276   0.976378       763.0  3.003937   0.888   \n",
       "49   1.7750      40.0  2.687500   1.065341       700.0  1.988636   1.125   \n",
       "\n",
       "     County  Road  \n",
       "813       0   351  \n",
       "611       0   177  \n",
       "403       0   373  \n",
       "349       0   281  \n",
       "49        0   163  "
      ]
     },
     "execution_count": 41,
     "metadata": {},
     "output_type": "execute_result"
    }
   ],
   "source": [
    "from sklearn.preprocessing import LabelEncoder\n",
    "\n",
    "le = LabelEncoder()\n",
    "\n",
    "df['County'] = le.fit_transform(df['County'])"
   ]
  },
  {
   "cell_type": "code",
   "execution_count": 44,
   "id": "ce60b6a8",
   "metadata": {},
   "outputs": [
    {
     "data": {
      "text/plain": [
       "array([0, 1])"
      ]
     },
     "execution_count": 44,
     "metadata": {},
     "output_type": "execute_result"
    }
   ],
   "source": [
    "df['County'].unique()"
   ]
  },
  {
   "cell_type": "markdown",
   "id": "fa8a2d65",
   "metadata": {},
   "source": [
    "### Using Regression(Random Forest) model"
   ]
  },
  {
   "cell_type": "code",
   "execution_count": 53,
   "id": "cf056b73",
   "metadata": {},
   "outputs": [],
   "source": [
    "# Dependent Values\n",
    "y = df.iloc[:,-3].values\n",
    "\n",
    "df.drop(labels=['Target'], axis=1, inplace = True)\n",
    "\n",
    "X = df.iloc[:,:].values"
   ]
  },
  {
   "cell_type": "code",
   "execution_count": 54,
   "id": "a9d271ce",
   "metadata": {},
   "outputs": [
    {
     "data": {
      "text/html": [
       "<div>\n",
       "<style scoped>\n",
       "    .dataframe tbody tr th:only-of-type {\n",
       "        vertical-align: middle;\n",
       "    }\n",
       "\n",
       "    .dataframe tbody tr th {\n",
       "        vertical-align: top;\n",
       "    }\n",
       "\n",
       "    .dataframe thead th {\n",
       "        text-align: right;\n",
       "    }\n",
       "</style>\n",
       "<table border=\"1\" class=\"dataframe\">\n",
       "  <thead>\n",
       "    <tr style=\"text-align: right;\">\n",
       "      <th></th>\n",
       "      <th>MedInc</th>\n",
       "      <th>HouseAge</th>\n",
       "      <th>AveRooms</th>\n",
       "      <th>AveBedrms</th>\n",
       "      <th>Population</th>\n",
       "      <th>AveOccup</th>\n",
       "      <th>County</th>\n",
       "      <th>Road</th>\n",
       "    </tr>\n",
       "  </thead>\n",
       "  <tbody>\n",
       "    <tr>\n",
       "      <th>813</th>\n",
       "      <td>3.7262</td>\n",
       "      <td>36.0</td>\n",
       "      <td>5.014235</td>\n",
       "      <td>0.964413</td>\n",
       "      <td>1002.0</td>\n",
       "      <td>3.565836</td>\n",
       "      <td>0</td>\n",
       "      <td>351</td>\n",
       "    </tr>\n",
       "    <tr>\n",
       "      <th>611</th>\n",
       "      <td>3.8510</td>\n",
       "      <td>52.0</td>\n",
       "      <td>5.269091</td>\n",
       "      <td>1.012727</td>\n",
       "      <td>1338.0</td>\n",
       "      <td>2.432727</td>\n",
       "      <td>0</td>\n",
       "      <td>177</td>\n",
       "    </tr>\n",
       "    <tr>\n",
       "      <th>403</th>\n",
       "      <td>7.8864</td>\n",
       "      <td>52.0</td>\n",
       "      <td>6.690972</td>\n",
       "      <td>0.968750</td>\n",
       "      <td>705.0</td>\n",
       "      <td>2.447917</td>\n",
       "      <td>0</td>\n",
       "      <td>373</td>\n",
       "    </tr>\n",
       "    <tr>\n",
       "      <th>349</th>\n",
       "      <td>2.3281</td>\n",
       "      <td>44.0</td>\n",
       "      <td>4.795276</td>\n",
       "      <td>0.976378</td>\n",
       "      <td>763.0</td>\n",
       "      <td>3.003937</td>\n",
       "      <td>0</td>\n",
       "      <td>281</td>\n",
       "    </tr>\n",
       "    <tr>\n",
       "      <th>49</th>\n",
       "      <td>1.7750</td>\n",
       "      <td>40.0</td>\n",
       "      <td>2.687500</td>\n",
       "      <td>1.065341</td>\n",
       "      <td>700.0</td>\n",
       "      <td>1.988636</td>\n",
       "      <td>0</td>\n",
       "      <td>163</td>\n",
       "    </tr>\n",
       "  </tbody>\n",
       "</table>\n",
       "</div>"
      ],
      "text/plain": [
       "     MedInc  HouseAge  AveRooms  AveBedrms  Population  AveOccup  County  Road\n",
       "813  3.7262      36.0  5.014235   0.964413      1002.0  3.565836       0   351\n",
       "611  3.8510      52.0  5.269091   1.012727      1338.0  2.432727       0   177\n",
       "403  7.8864      52.0  6.690972   0.968750       705.0  2.447917       0   373\n",
       "349  2.3281      44.0  4.795276   0.976378       763.0  3.003937       0   281\n",
       "49   1.7750      40.0  2.687500   1.065341       700.0  1.988636       0   163"
      ]
     },
     "execution_count": 54,
     "metadata": {},
     "output_type": "execute_result"
    }
   ],
   "source": [
    "df.head()"
   ]
  },
  {
   "cell_type": "code",
   "execution_count": 58,
   "id": "b43273f1",
   "metadata": {},
   "outputs": [],
   "source": [
    "from sklearn.model_selection import train_test_split\n",
    "\n",
    "X_train, X_test, y_train, y_test = train_test_split(X, y, test_size=0.20, random_state=42)"
   ]
  },
  {
   "cell_type": "code",
   "execution_count": 59,
   "id": "aa302078",
   "metadata": {},
   "outputs": [],
   "source": [
    "# train_test_split? - Documentation"
   ]
  },
  {
   "cell_type": "code",
   "execution_count": 60,
   "id": "4d294a2c",
   "metadata": {},
   "outputs": [
    {
     "data": {
      "text/plain": [
       "RandomForestRegressor()"
      ]
     },
     "execution_count": 60,
     "metadata": {},
     "output_type": "execute_result"
    }
   ],
   "source": [
    "from sklearn.ensemble import RandomForestRegressor\n",
    "\n",
    "model = RandomForestRegressor()\n",
    "\n",
    "model.fit(X_train, y_train)"
   ]
  },
  {
   "cell_type": "code",
   "execution_count": 61,
   "id": "a5b0a852",
   "metadata": {},
   "outputs": [],
   "source": [
    "# model prediction\n",
    "y_pred = model.predict(X_test)"
   ]
  },
  {
   "cell_type": "code",
   "execution_count": 62,
   "id": "07d616b2",
   "metadata": {},
   "outputs": [
    {
     "data": {
      "text/plain": [
       "0.7624565548116014"
      ]
     },
     "execution_count": 62,
     "metadata": {},
     "output_type": "execute_result"
    }
   ],
   "source": [
    "# model accuracy\n",
    "from sklearn.metrics import r2_score\n",
    "\n",
    "r2_score(y_test, y_pred)"
   ]
  },
  {
   "cell_type": "markdown",
   "id": "4cfd5757",
   "metadata": {},
   "source": [
    "### Add our ownData"
   ]
  },
  {
   "cell_type": "code",
   "execution_count": 63,
   "id": "95ab0423",
   "metadata": {},
   "outputs": [
    {
     "data": {
      "text/plain": [
       "(8,)"
      ]
     },
     "execution_count": 63,
     "metadata": {},
     "output_type": "execute_result"
    }
   ],
   "source": [
    "inp = np.array([3.7262,36.0,5.014235,0.964413,1002.0,3.565836,0,351])\n",
    "inp.shape"
   ]
  },
  {
   "cell_type": "code",
   "execution_count": 65,
   "id": "e61681b8",
   "metadata": {},
   "outputs": [],
   "source": [
    "inp = inp.reshape((1,-1))"
   ]
  },
  {
   "cell_type": "code",
   "execution_count": 66,
   "id": "a5b6210b",
   "metadata": {},
   "outputs": [
    {
     "data": {
      "text/plain": [
       "array([1.64395])"
      ]
     },
     "execution_count": 66,
     "metadata": {},
     "output_type": "execute_result"
    }
   ],
   "source": [
    "model.predict(inp)"
   ]
  },
  {
   "cell_type": "code",
   "execution_count": null,
   "id": "52bfe6f9",
   "metadata": {},
   "outputs": [],
   "source": []
  }
 ],
 "metadata": {
  "kernelspec": {
   "display_name": "Python 3 (ipykernel)",
   "language": "python",
   "name": "python3"
  },
  "language_info": {
   "codemirror_mode": {
    "name": "ipython",
    "version": 3
   },
   "file_extension": ".py",
   "mimetype": "text/x-python",
   "name": "python",
   "nbconvert_exporter": "python",
   "pygments_lexer": "ipython3",
   "version": "3.9.12"
  }
 },
 "nbformat": 4,
 "nbformat_minor": 5
}
